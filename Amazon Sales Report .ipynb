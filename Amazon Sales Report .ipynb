{
 "cells": [
  {
   "cell_type": "code",
   "execution_count": 1,
   "id": "1b169dd6",
   "metadata": {},
   "outputs": [],
   "source": [
    "# Import libraries\n",
    "\n",
    "import numpy as np\n",
    "import pandas as pd\n",
    "import matplotlib.pyplot as plt\n",
    "import seaborn as sns\n",
    "import scipy.stats as stats\n"
   ]
  },
  {
   "cell_type": "code",
   "execution_count": 2,
   "id": "2a386f88",
   "metadata": {},
   "outputs": [
    {
     "data": {
      "text/html": [
       "<div>\n",
       "<style scoped>\n",
       "    .dataframe tbody tr th:only-of-type {\n",
       "        vertical-align: middle;\n",
       "    }\n",
       "\n",
       "    .dataframe tbody tr th {\n",
       "        vertical-align: top;\n",
       "    }\n",
       "\n",
       "    .dataframe thead th {\n",
       "        text-align: right;\n",
       "    }\n",
       "</style>\n",
       "<table border=\"1\" class=\"dataframe\">\n",
       "  <thead>\n",
       "    <tr style=\"text-align: right;\">\n",
       "      <th></th>\n",
       "      <th>index</th>\n",
       "      <th>Order ID</th>\n",
       "      <th>Date</th>\n",
       "      <th>Status</th>\n",
       "      <th>Fulfilment</th>\n",
       "      <th>Sales Channel</th>\n",
       "      <th>ship-service-level</th>\n",
       "      <th>Category</th>\n",
       "      <th>Size</th>\n",
       "      <th>Courier Status</th>\n",
       "      <th>...</th>\n",
       "      <th>currency</th>\n",
       "      <th>Amount</th>\n",
       "      <th>ship-city</th>\n",
       "      <th>ship-state</th>\n",
       "      <th>ship-postal-code</th>\n",
       "      <th>ship-country</th>\n",
       "      <th>B2B</th>\n",
       "      <th>fulfilled-by</th>\n",
       "      <th>New</th>\n",
       "      <th>PendingS</th>\n",
       "    </tr>\n",
       "  </thead>\n",
       "  <tbody>\n",
       "    <tr>\n",
       "      <th>0</th>\n",
       "      <td>0</td>\n",
       "      <td>405-8078784-5731545</td>\n",
       "      <td>06/12/2022</td>\n",
       "      <td>Cancelled</td>\n",
       "      <td>Merchant</td>\n",
       "      <td>Amazon.in</td>\n",
       "      <td>Standard</td>\n",
       "      <td>T-shirt</td>\n",
       "      <td>S</td>\n",
       "      <td>On the Way</td>\n",
       "      <td>...</td>\n",
       "      <td>INR</td>\n",
       "      <td>647.62</td>\n",
       "      <td>MUMBAI</td>\n",
       "      <td>MAHARASHTRA</td>\n",
       "      <td>400081.0</td>\n",
       "      <td>IN</td>\n",
       "      <td>False</td>\n",
       "      <td>Easy Ship</td>\n",
       "      <td>NaN</td>\n",
       "      <td>NaN</td>\n",
       "    </tr>\n",
       "    <tr>\n",
       "      <th>1</th>\n",
       "      <td>1</td>\n",
       "      <td>171-9198151-1101146</td>\n",
       "      <td>06/12/2022</td>\n",
       "      <td>Shipped - Delivered to Buyer</td>\n",
       "      <td>Merchant</td>\n",
       "      <td>Amazon.in</td>\n",
       "      <td>Standard</td>\n",
       "      <td>Shirt</td>\n",
       "      <td>3XL</td>\n",
       "      <td>Shipped</td>\n",
       "      <td>...</td>\n",
       "      <td>INR</td>\n",
       "      <td>406.00</td>\n",
       "      <td>BENGALURU</td>\n",
       "      <td>KARNATAKA</td>\n",
       "      <td>560085.0</td>\n",
       "      <td>IN</td>\n",
       "      <td>False</td>\n",
       "      <td>Easy Ship</td>\n",
       "      <td>NaN</td>\n",
       "      <td>NaN</td>\n",
       "    </tr>\n",
       "    <tr>\n",
       "      <th>2</th>\n",
       "      <td>2</td>\n",
       "      <td>404-0687676-7273146</td>\n",
       "      <td>06/12/2022</td>\n",
       "      <td>Shipped</td>\n",
       "      <td>Amazon</td>\n",
       "      <td>Amazon.in</td>\n",
       "      <td>Expedited</td>\n",
       "      <td>Shirt</td>\n",
       "      <td>XL</td>\n",
       "      <td>Shipped</td>\n",
       "      <td>...</td>\n",
       "      <td>INR</td>\n",
       "      <td>329.00</td>\n",
       "      <td>NAVI MUMBAI</td>\n",
       "      <td>MAHARASHTRA</td>\n",
       "      <td>410210.0</td>\n",
       "      <td>IN</td>\n",
       "      <td>True</td>\n",
       "      <td>NaN</td>\n",
       "      <td>NaN</td>\n",
       "      <td>NaN</td>\n",
       "    </tr>\n",
       "    <tr>\n",
       "      <th>3</th>\n",
       "      <td>3</td>\n",
       "      <td>403-9615377-8133951</td>\n",
       "      <td>06/12/2022</td>\n",
       "      <td>Cancelled</td>\n",
       "      <td>Merchant</td>\n",
       "      <td>Amazon.in</td>\n",
       "      <td>Standard</td>\n",
       "      <td>Blazzer</td>\n",
       "      <td>L</td>\n",
       "      <td>On the Way</td>\n",
       "      <td>...</td>\n",
       "      <td>INR</td>\n",
       "      <td>753.33</td>\n",
       "      <td>PUDUCHERRY</td>\n",
       "      <td>PUDUCHERRY</td>\n",
       "      <td>605008.0</td>\n",
       "      <td>IN</td>\n",
       "      <td>False</td>\n",
       "      <td>Easy Ship</td>\n",
       "      <td>NaN</td>\n",
       "      <td>NaN</td>\n",
       "    </tr>\n",
       "    <tr>\n",
       "      <th>4</th>\n",
       "      <td>4</td>\n",
       "      <td>407-1069790-7240320</td>\n",
       "      <td>06/12/2022</td>\n",
       "      <td>Shipped</td>\n",
       "      <td>Amazon</td>\n",
       "      <td>Amazon.in</td>\n",
       "      <td>Expedited</td>\n",
       "      <td>Trousers</td>\n",
       "      <td>3XL</td>\n",
       "      <td>Shipped</td>\n",
       "      <td>...</td>\n",
       "      <td>INR</td>\n",
       "      <td>574.00</td>\n",
       "      <td>CHENNAI</td>\n",
       "      <td>TAMIL NADU</td>\n",
       "      <td>600073.0</td>\n",
       "      <td>IN</td>\n",
       "      <td>False</td>\n",
       "      <td>NaN</td>\n",
       "      <td>NaN</td>\n",
       "      <td>NaN</td>\n",
       "    </tr>\n",
       "    <tr>\n",
       "      <th>...</th>\n",
       "      <td>...</td>\n",
       "      <td>...</td>\n",
       "      <td>...</td>\n",
       "      <td>...</td>\n",
       "      <td>...</td>\n",
       "      <td>...</td>\n",
       "      <td>...</td>\n",
       "      <td>...</td>\n",
       "      <td>...</td>\n",
       "      <td>...</td>\n",
       "      <td>...</td>\n",
       "      <td>...</td>\n",
       "      <td>...</td>\n",
       "      <td>...</td>\n",
       "      <td>...</td>\n",
       "      <td>...</td>\n",
       "      <td>...</td>\n",
       "      <td>...</td>\n",
       "      <td>...</td>\n",
       "      <td>...</td>\n",
       "      <td>...</td>\n",
       "    </tr>\n",
       "    <tr>\n",
       "      <th>128971</th>\n",
       "      <td>128970</td>\n",
       "      <td>406-6001380-7673107</td>\n",
       "      <td>06/01/2022</td>\n",
       "      <td>Shipped</td>\n",
       "      <td>Amazon</td>\n",
       "      <td>Amazon.in</td>\n",
       "      <td>Expedited</td>\n",
       "      <td>Shirt</td>\n",
       "      <td>XL</td>\n",
       "      <td>Shipped</td>\n",
       "      <td>...</td>\n",
       "      <td>INR</td>\n",
       "      <td>517.00</td>\n",
       "      <td>HYDERABAD</td>\n",
       "      <td>TELANGANA</td>\n",
       "      <td>500013.0</td>\n",
       "      <td>IN</td>\n",
       "      <td>False</td>\n",
       "      <td>NaN</td>\n",
       "      <td>NaN</td>\n",
       "      <td>NaN</td>\n",
       "    </tr>\n",
       "    <tr>\n",
       "      <th>128972</th>\n",
       "      <td>128971</td>\n",
       "      <td>402-9551604-7544318</td>\n",
       "      <td>06/01/2022</td>\n",
       "      <td>Shipped</td>\n",
       "      <td>Amazon</td>\n",
       "      <td>Amazon.in</td>\n",
       "      <td>Expedited</td>\n",
       "      <td>T-shirt</td>\n",
       "      <td>M</td>\n",
       "      <td>Shipped</td>\n",
       "      <td>...</td>\n",
       "      <td>INR</td>\n",
       "      <td>999.00</td>\n",
       "      <td>GURUGRAM</td>\n",
       "      <td>HARYANA</td>\n",
       "      <td>122004.0</td>\n",
       "      <td>IN</td>\n",
       "      <td>False</td>\n",
       "      <td>NaN</td>\n",
       "      <td>NaN</td>\n",
       "      <td>NaN</td>\n",
       "    </tr>\n",
       "    <tr>\n",
       "      <th>128973</th>\n",
       "      <td>128972</td>\n",
       "      <td>407-9547469-3152358</td>\n",
       "      <td>06/01/2022</td>\n",
       "      <td>Shipped</td>\n",
       "      <td>Amazon</td>\n",
       "      <td>Amazon.in</td>\n",
       "      <td>Expedited</td>\n",
       "      <td>Blazzer</td>\n",
       "      <td>XXL</td>\n",
       "      <td>Shipped</td>\n",
       "      <td>...</td>\n",
       "      <td>INR</td>\n",
       "      <td>690.00</td>\n",
       "      <td>HYDERABAD</td>\n",
       "      <td>TELANGANA</td>\n",
       "      <td>500049.0</td>\n",
       "      <td>IN</td>\n",
       "      <td>False</td>\n",
       "      <td>NaN</td>\n",
       "      <td>NaN</td>\n",
       "      <td>NaN</td>\n",
       "    </tr>\n",
       "    <tr>\n",
       "      <th>128974</th>\n",
       "      <td>128973</td>\n",
       "      <td>402-6184140-0545956</td>\n",
       "      <td>06/01/2022</td>\n",
       "      <td>Shipped</td>\n",
       "      <td>Amazon</td>\n",
       "      <td>Amazon.in</td>\n",
       "      <td>Expedited</td>\n",
       "      <td>T-shirt</td>\n",
       "      <td>XS</td>\n",
       "      <td>Shipped</td>\n",
       "      <td>...</td>\n",
       "      <td>INR</td>\n",
       "      <td>1199.00</td>\n",
       "      <td>Halol</td>\n",
       "      <td>Gujarat</td>\n",
       "      <td>389350.0</td>\n",
       "      <td>IN</td>\n",
       "      <td>False</td>\n",
       "      <td>NaN</td>\n",
       "      <td>NaN</td>\n",
       "      <td>NaN</td>\n",
       "    </tr>\n",
       "    <tr>\n",
       "      <th>128975</th>\n",
       "      <td>128974</td>\n",
       "      <td>408-7436540-8728312</td>\n",
       "      <td>06/01/2022</td>\n",
       "      <td>Shipped</td>\n",
       "      <td>Amazon</td>\n",
       "      <td>Amazon.in</td>\n",
       "      <td>Expedited</td>\n",
       "      <td>T-shirt</td>\n",
       "      <td>S</td>\n",
       "      <td>Shipped</td>\n",
       "      <td>...</td>\n",
       "      <td>INR</td>\n",
       "      <td>696.00</td>\n",
       "      <td>Raipur</td>\n",
       "      <td>CHHATTISGARH</td>\n",
       "      <td>492014.0</td>\n",
       "      <td>IN</td>\n",
       "      <td>False</td>\n",
       "      <td>NaN</td>\n",
       "      <td>NaN</td>\n",
       "      <td>NaN</td>\n",
       "    </tr>\n",
       "  </tbody>\n",
       "</table>\n",
       "<p>128976 rows × 21 columns</p>\n",
       "</div>"
      ],
      "text/plain": [
       "         index             Order ID        Date                        Status  \\\n",
       "0            0  405-8078784-5731545  06/12/2022                     Cancelled   \n",
       "1            1  171-9198151-1101146  06/12/2022  Shipped - Delivered to Buyer   \n",
       "2            2  404-0687676-7273146  06/12/2022                       Shipped   \n",
       "3            3  403-9615377-8133951  06/12/2022                     Cancelled   \n",
       "4            4  407-1069790-7240320  06/12/2022                       Shipped   \n",
       "...        ...                  ...         ...                           ...   \n",
       "128971  128970  406-6001380-7673107  06/01/2022                       Shipped   \n",
       "128972  128971  402-9551604-7544318  06/01/2022                       Shipped   \n",
       "128973  128972  407-9547469-3152358  06/01/2022                       Shipped   \n",
       "128974  128973  402-6184140-0545956  06/01/2022                       Shipped   \n",
       "128975  128974  408-7436540-8728312  06/01/2022                       Shipped   \n",
       "\n",
       "       Fulfilment Sales Channel ship-service-level  Category Size  \\\n",
       "0        Merchant     Amazon.in           Standard   T-shirt    S   \n",
       "1        Merchant     Amazon.in           Standard     Shirt  3XL   \n",
       "2          Amazon     Amazon.in          Expedited     Shirt   XL   \n",
       "3        Merchant     Amazon.in           Standard   Blazzer    L   \n",
       "4          Amazon     Amazon.in          Expedited  Trousers  3XL   \n",
       "...           ...           ...                ...       ...  ...   \n",
       "128971     Amazon     Amazon.in          Expedited     Shirt   XL   \n",
       "128972     Amazon     Amazon.in          Expedited   T-shirt    M   \n",
       "128973     Amazon     Amazon.in          Expedited   Blazzer  XXL   \n",
       "128974     Amazon     Amazon.in          Expedited   T-shirt   XS   \n",
       "128975     Amazon     Amazon.in          Expedited   T-shirt    S   \n",
       "\n",
       "       Courier Status  ...  currency   Amount    ship-city    ship-state  \\\n",
       "0          On the Way  ...       INR   647.62       MUMBAI   MAHARASHTRA   \n",
       "1             Shipped  ...       INR   406.00    BENGALURU     KARNATAKA   \n",
       "2             Shipped  ...       INR   329.00  NAVI MUMBAI   MAHARASHTRA   \n",
       "3          On the Way  ...       INR   753.33   PUDUCHERRY    PUDUCHERRY   \n",
       "4             Shipped  ...       INR   574.00      CHENNAI    TAMIL NADU   \n",
       "...               ...  ...       ...      ...          ...           ...   \n",
       "128971        Shipped  ...       INR   517.00    HYDERABAD     TELANGANA   \n",
       "128972        Shipped  ...       INR   999.00     GURUGRAM       HARYANA   \n",
       "128973        Shipped  ...       INR   690.00    HYDERABAD     TELANGANA   \n",
       "128974        Shipped  ...       INR  1199.00        Halol       Gujarat   \n",
       "128975        Shipped  ...       INR   696.00       Raipur  CHHATTISGARH   \n",
       "\n",
       "       ship-postal-code  ship-country    B2B  fulfilled-by New  PendingS  \n",
       "0              400081.0            IN  False     Easy Ship NaN       NaN  \n",
       "1              560085.0            IN  False     Easy Ship NaN       NaN  \n",
       "2              410210.0            IN   True           NaN NaN       NaN  \n",
       "3              605008.0            IN  False     Easy Ship NaN       NaN  \n",
       "4              600073.0            IN  False           NaN NaN       NaN  \n",
       "...                 ...           ...    ...           ...  ..       ...  \n",
       "128971         500013.0            IN  False           NaN NaN       NaN  \n",
       "128972         122004.0            IN  False           NaN NaN       NaN  \n",
       "128973         500049.0            IN  False           NaN NaN       NaN  \n",
       "128974         389350.0            IN  False           NaN NaN       NaN  \n",
       "128975         492014.0            IN  False           NaN NaN       NaN  \n",
       "\n",
       "[128976 rows x 21 columns]"
      ]
     },
     "execution_count": 2,
     "metadata": {},
     "output_type": "execute_result"
    }
   ],
   "source": [
    "# Read csv file\n",
    "\n",
    "amazon = pd.read_csv(r\"C:\\Users\\jbkvk\\Downloads\\innobyte data analyst project\\Amazon Sale Report.csv edit.csv\")\n",
    "amazon\n"
   ]
  },
  {
   "cell_type": "code",
   "execution_count": 3,
   "id": "51d761e1",
   "metadata": {},
   "outputs": [
    {
     "data": {
      "text/plain": [
       "Index(['index', 'Order ID', 'Date', 'Status', 'Fulfilment', 'Sales Channel',\n",
       "       'ship-service-level', 'Category', 'Size', 'Courier Status', 'Qty',\n",
       "       'currency', 'Amount', 'ship-city', 'ship-state', 'ship-postal-code',\n",
       "       'ship-country', 'B2B', 'fulfilled-by', 'New', 'PendingS'],\n",
       "      dtype='object')"
      ]
     },
     "execution_count": 3,
     "metadata": {},
     "output_type": "execute_result"
    }
   ],
   "source": [
    "# Display all the column names\n",
    "\n",
    "amazon.columns \n"
   ]
  },
  {
   "cell_type": "code",
   "execution_count": 4,
   "id": "d7000e42",
   "metadata": {},
   "outputs": [
    {
     "data": {
      "text/plain": [
       "(128976, 21)"
      ]
     },
     "execution_count": 4,
     "metadata": {},
     "output_type": "execute_result"
    }
   ],
   "source": [
    "# Display total number of rows and columns \n",
    "\n",
    "amazon.shape\n"
   ]
  },
  {
   "cell_type": "code",
   "execution_count": 5,
   "id": "8f0ed8f1",
   "metadata": {},
   "outputs": [
    {
     "name": "stdout",
     "output_type": "stream",
     "text": [
      "index                   int64\n",
      "Order ID               object\n",
      "Date                   object\n",
      "Status                 object\n",
      "Fulfilment             object\n",
      "Sales Channel          object\n",
      "ship-service-level     object\n",
      "Category               object\n",
      "Size                   object\n",
      "Courier Status         object\n",
      "Qty                     int64\n",
      "currency               object\n",
      "Amount                float64\n",
      "ship-city              object\n",
      "ship-state             object\n",
      "ship-postal-code      float64\n",
      "ship-country           object\n",
      "B2B                      bool\n",
      "fulfilled-by           object\n",
      "New                   float64\n",
      "PendingS              float64\n",
      "dtype: object\n"
     ]
    }
   ],
   "source": [
    "\n",
    "print(amazon.dtypes)\n"
   ]
  },
  {
   "cell_type": "code",
   "execution_count": 6,
   "id": "2fe47bee",
   "metadata": {},
   "outputs": [],
   "source": [
    "########  Convert 'Date' column to datetime  #########\n",
    "\n",
    "amazon['Date']= pd.to_datetime(amazon['Date'], errors = 'coerce', dayfirst = True)\n"
   ]
  },
  {
   "cell_type": "code",
   "execution_count": 7,
   "id": "4d51abc3",
   "metadata": {},
   "outputs": [
    {
     "data": {
      "text/plain": [
       "0         False\n",
       "1         False\n",
       "2         False\n",
       "3         False\n",
       "4         False\n",
       "          ...  \n",
       "128971    False\n",
       "128972    False\n",
       "128973    False\n",
       "128974    False\n",
       "128975    False\n",
       "Length: 128976, dtype: bool"
      ]
     },
     "execution_count": 7,
     "metadata": {},
     "output_type": "execute_result"
    }
   ],
   "source": [
    "########  Identify duplicate columns  ###########\n",
    "\n",
    "duplicate_columns = amazon.duplicated()  # no duplicate columns in this dataset\n",
    "duplicate_columns\n"
   ]
  },
  {
   "cell_type": "code",
   "execution_count": 8,
   "id": "de16939c",
   "metadata": {},
   "outputs": [
    {
     "data": {
      "text/html": [
       "<div>\n",
       "<style scoped>\n",
       "    .dataframe tbody tr th:only-of-type {\n",
       "        vertical-align: middle;\n",
       "    }\n",
       "\n",
       "    .dataframe tbody tr th {\n",
       "        vertical-align: top;\n",
       "    }\n",
       "\n",
       "    .dataframe thead th {\n",
       "        text-align: right;\n",
       "    }\n",
       "</style>\n",
       "<table border=\"1\" class=\"dataframe\">\n",
       "  <thead>\n",
       "    <tr style=\"text-align: right;\">\n",
       "      <th></th>\n",
       "      <th>index</th>\n",
       "      <th>Order ID</th>\n",
       "      <th>Date</th>\n",
       "      <th>Status</th>\n",
       "      <th>Fulfilment</th>\n",
       "      <th>Sales Channel</th>\n",
       "      <th>ship-service-level</th>\n",
       "      <th>Category</th>\n",
       "      <th>Size</th>\n",
       "      <th>Courier Status</th>\n",
       "      <th>...</th>\n",
       "      <th>currency</th>\n",
       "      <th>Amount</th>\n",
       "      <th>ship-city</th>\n",
       "      <th>ship-state</th>\n",
       "      <th>ship-postal-code</th>\n",
       "      <th>ship-country</th>\n",
       "      <th>B2B</th>\n",
       "      <th>fulfilled-by</th>\n",
       "      <th>New</th>\n",
       "      <th>PendingS</th>\n",
       "    </tr>\n",
       "  </thead>\n",
       "  <tbody>\n",
       "    <tr>\n",
       "      <th>201</th>\n",
       "      <td>6</td>\n",
       "      <td>408-5748499-6859555</td>\n",
       "      <td>2022-12-06</td>\n",
       "      <td>Shipped</td>\n",
       "      <td>Amazon</td>\n",
       "      <td>Amazon.in</td>\n",
       "      <td>Expedited</td>\n",
       "      <td>T-shirt</td>\n",
       "      <td>L</td>\n",
       "      <td>Shipped</td>\n",
       "      <td>...</td>\n",
       "      <td>INR</td>\n",
       "      <td>653.0</td>\n",
       "      <td>CHANDIGARH</td>\n",
       "      <td>CHANDIGARH</td>\n",
       "      <td>160036.0</td>\n",
       "      <td>IN</td>\n",
       "      <td>False</td>\n",
       "      <td>NaN</td>\n",
       "      <td>NaN</td>\n",
       "      <td>NaN</td>\n",
       "    </tr>\n",
       "    <tr>\n",
       "      <th>202</th>\n",
       "      <td>7</td>\n",
       "      <td>406-7807733-3785945</td>\n",
       "      <td>2022-12-06</td>\n",
       "      <td>Shipped - Delivered to Buyer</td>\n",
       "      <td>Merchant</td>\n",
       "      <td>Amazon.in</td>\n",
       "      <td>Standard</td>\n",
       "      <td>Shirt</td>\n",
       "      <td>S</td>\n",
       "      <td>Shipped</td>\n",
       "      <td>...</td>\n",
       "      <td>INR</td>\n",
       "      <td>399.0</td>\n",
       "      <td>HYDERABAD</td>\n",
       "      <td>TELANGANA</td>\n",
       "      <td>500032.0</td>\n",
       "      <td>IN</td>\n",
       "      <td>False</td>\n",
       "      <td>Easy Ship</td>\n",
       "      <td>NaN</td>\n",
       "      <td>NaN</td>\n",
       "    </tr>\n",
       "    <tr>\n",
       "      <th>203</th>\n",
       "      <td>8</td>\n",
       "      <td>407-5443024-5233168</td>\n",
       "      <td>2022-12-06</td>\n",
       "      <td>Cancelled</td>\n",
       "      <td>Amazon</td>\n",
       "      <td>Amazon.in</td>\n",
       "      <td>Expedited</td>\n",
       "      <td>T-shirt</td>\n",
       "      <td>3XL</td>\n",
       "      <td>Cancelled</td>\n",
       "      <td>...</td>\n",
       "      <td>NaN</td>\n",
       "      <td>0.0</td>\n",
       "      <td>HYDERABAD</td>\n",
       "      <td>TELANGANA</td>\n",
       "      <td>500008.0</td>\n",
       "      <td>IN</td>\n",
       "      <td>False</td>\n",
       "      <td>NaN</td>\n",
       "      <td>NaN</td>\n",
       "      <td>NaN</td>\n",
       "    </tr>\n",
       "    <tr>\n",
       "      <th>204</th>\n",
       "      <td>9</td>\n",
       "      <td>402-4393761-0311520</td>\n",
       "      <td>2022-12-06</td>\n",
       "      <td>Shipped</td>\n",
       "      <td>Amazon</td>\n",
       "      <td>Amazon.in</td>\n",
       "      <td>Expedited</td>\n",
       "      <td>Shirt</td>\n",
       "      <td>XXL</td>\n",
       "      <td>Shipped</td>\n",
       "      <td>...</td>\n",
       "      <td>INR</td>\n",
       "      <td>363.0</td>\n",
       "      <td>Chennai</td>\n",
       "      <td>TAMIL NADU</td>\n",
       "      <td>600041.0</td>\n",
       "      <td>IN</td>\n",
       "      <td>False</td>\n",
       "      <td>NaN</td>\n",
       "      <td>NaN</td>\n",
       "      <td>NaN</td>\n",
       "    </tr>\n",
       "    <tr>\n",
       "      <th>205</th>\n",
       "      <td>10</td>\n",
       "      <td>407-5633625-6970741</td>\n",
       "      <td>2022-12-06</td>\n",
       "      <td>Shipped</td>\n",
       "      <td>Amazon</td>\n",
       "      <td>Amazon.in</td>\n",
       "      <td>Expedited</td>\n",
       "      <td>Shirt</td>\n",
       "      <td>S</td>\n",
       "      <td>Shipped</td>\n",
       "      <td>...</td>\n",
       "      <td>INR</td>\n",
       "      <td>685.0</td>\n",
       "      <td>CHENNAI</td>\n",
       "      <td>TAMIL NADU</td>\n",
       "      <td>600073.0</td>\n",
       "      <td>IN</td>\n",
       "      <td>False</td>\n",
       "      <td>NaN</td>\n",
       "      <td>NaN</td>\n",
       "      <td>NaN</td>\n",
       "    </tr>\n",
       "    <tr>\n",
       "      <th>...</th>\n",
       "      <td>...</td>\n",
       "      <td>...</td>\n",
       "      <td>...</td>\n",
       "      <td>...</td>\n",
       "      <td>...</td>\n",
       "      <td>...</td>\n",
       "      <td>...</td>\n",
       "      <td>...</td>\n",
       "      <td>...</td>\n",
       "      <td>...</td>\n",
       "      <td>...</td>\n",
       "      <td>...</td>\n",
       "      <td>...</td>\n",
       "      <td>...</td>\n",
       "      <td>...</td>\n",
       "      <td>...</td>\n",
       "      <td>...</td>\n",
       "      <td>...</td>\n",
       "      <td>...</td>\n",
       "      <td>...</td>\n",
       "      <td>...</td>\n",
       "    </tr>\n",
       "    <tr>\n",
       "      <th>6640</th>\n",
       "      <td>6278</td>\n",
       "      <td>171-5170733-7855514</td>\n",
       "      <td>2022-08-06</td>\n",
       "      <td>Shipped - Delivered to Buyer</td>\n",
       "      <td>Merchant</td>\n",
       "      <td>Amazon.in</td>\n",
       "      <td>Standard</td>\n",
       "      <td>T-shirt</td>\n",
       "      <td>XS</td>\n",
       "      <td>Shipped</td>\n",
       "      <td>...</td>\n",
       "      <td>INR</td>\n",
       "      <td>582.0</td>\n",
       "      <td>HYDERABAD</td>\n",
       "      <td>TELANGANA</td>\n",
       "      <td>500083.0</td>\n",
       "      <td>IN</td>\n",
       "      <td>False</td>\n",
       "      <td>Easy Ship</td>\n",
       "      <td>NaN</td>\n",
       "      <td>NaN</td>\n",
       "    </tr>\n",
       "    <tr>\n",
       "      <th>6641</th>\n",
       "      <td>6279</td>\n",
       "      <td>403-8137343-5206760</td>\n",
       "      <td>2022-08-06</td>\n",
       "      <td>Shipped - Delivered to Buyer</td>\n",
       "      <td>Merchant</td>\n",
       "      <td>Amazon.in</td>\n",
       "      <td>Standard</td>\n",
       "      <td>T-shirt</td>\n",
       "      <td>XS</td>\n",
       "      <td>Shipped</td>\n",
       "      <td>...</td>\n",
       "      <td>INR</td>\n",
       "      <td>801.0</td>\n",
       "      <td>KALPETTA</td>\n",
       "      <td>KERALA</td>\n",
       "      <td>673122.0</td>\n",
       "      <td>IN</td>\n",
       "      <td>False</td>\n",
       "      <td>Easy Ship</td>\n",
       "      <td>NaN</td>\n",
       "      <td>NaN</td>\n",
       "    </tr>\n",
       "    <tr>\n",
       "      <th>6642</th>\n",
       "      <td>6280</td>\n",
       "      <td>408-1575454-3263526</td>\n",
       "      <td>2022-08-06</td>\n",
       "      <td>Shipped - Returned to Seller</td>\n",
       "      <td>Merchant</td>\n",
       "      <td>Amazon.in</td>\n",
       "      <td>Standard</td>\n",
       "      <td>Blazzer</td>\n",
       "      <td>M</td>\n",
       "      <td>Shipped</td>\n",
       "      <td>...</td>\n",
       "      <td>INR</td>\n",
       "      <td>690.0</td>\n",
       "      <td>CHENNAI</td>\n",
       "      <td>TAMIL NADU</td>\n",
       "      <td>600049.0</td>\n",
       "      <td>IN</td>\n",
       "      <td>False</td>\n",
       "      <td>Easy Ship</td>\n",
       "      <td>NaN</td>\n",
       "      <td>NaN</td>\n",
       "    </tr>\n",
       "    <tr>\n",
       "      <th>6643</th>\n",
       "      <td>6281</td>\n",
       "      <td>171-2918708-7197155</td>\n",
       "      <td>2022-08-06</td>\n",
       "      <td>Shipped - Delivered to Buyer</td>\n",
       "      <td>Merchant</td>\n",
       "      <td>Amazon.in</td>\n",
       "      <td>Standard</td>\n",
       "      <td>Blazzer</td>\n",
       "      <td>XXL</td>\n",
       "      <td>Shipped</td>\n",
       "      <td>...</td>\n",
       "      <td>INR</td>\n",
       "      <td>658.0</td>\n",
       "      <td>PUNE</td>\n",
       "      <td>MAHARASHTRA</td>\n",
       "      <td>412207.0</td>\n",
       "      <td>IN</td>\n",
       "      <td>False</td>\n",
       "      <td>Easy Ship</td>\n",
       "      <td>NaN</td>\n",
       "      <td>NaN</td>\n",
       "    </tr>\n",
       "    <tr>\n",
       "      <th>6644</th>\n",
       "      <td>6282</td>\n",
       "      <td>406-7244956-4740355</td>\n",
       "      <td>2022-08-06</td>\n",
       "      <td>Shipped</td>\n",
       "      <td>Amazon</td>\n",
       "      <td>Amazon.in</td>\n",
       "      <td>Expedited</td>\n",
       "      <td>Trousers</td>\n",
       "      <td>XL</td>\n",
       "      <td>Shipped</td>\n",
       "      <td>...</td>\n",
       "      <td>INR</td>\n",
       "      <td>540.0</td>\n",
       "      <td>RAJKOT</td>\n",
       "      <td>Gujarat</td>\n",
       "      <td>360001.0</td>\n",
       "      <td>IN</td>\n",
       "      <td>False</td>\n",
       "      <td>NaN</td>\n",
       "      <td>NaN</td>\n",
       "      <td>NaN</td>\n",
       "    </tr>\n",
       "  </tbody>\n",
       "</table>\n",
       "<p>165 rows × 21 columns</p>\n",
       "</div>"
      ],
      "text/plain": [
       "      index             Order ID       Date                        Status  \\\n",
       "201       6  408-5748499-6859555 2022-12-06                       Shipped   \n",
       "202       7  406-7807733-3785945 2022-12-06  Shipped - Delivered to Buyer   \n",
       "203       8  407-5443024-5233168 2022-12-06                     Cancelled   \n",
       "204       9  402-4393761-0311520 2022-12-06                       Shipped   \n",
       "205      10  407-5633625-6970741 2022-12-06                       Shipped   \n",
       "...     ...                  ...        ...                           ...   \n",
       "6640   6278  171-5170733-7855514 2022-08-06  Shipped - Delivered to Buyer   \n",
       "6641   6279  403-8137343-5206760 2022-08-06  Shipped - Delivered to Buyer   \n",
       "6642   6280  408-1575454-3263526 2022-08-06  Shipped - Returned to Seller   \n",
       "6643   6281  171-2918708-7197155 2022-08-06  Shipped - Delivered to Buyer   \n",
       "6644   6282  406-7244956-4740355 2022-08-06                       Shipped   \n",
       "\n",
       "     Fulfilment Sales Channel ship-service-level  Category Size  \\\n",
       "201      Amazon     Amazon.in          Expedited   T-shirt    L   \n",
       "202    Merchant     Amazon.in           Standard     Shirt    S   \n",
       "203      Amazon     Amazon.in          Expedited   T-shirt  3XL   \n",
       "204      Amazon     Amazon.in          Expedited     Shirt  XXL   \n",
       "205      Amazon     Amazon.in          Expedited     Shirt    S   \n",
       "...         ...           ...                ...       ...  ...   \n",
       "6640   Merchant     Amazon.in           Standard   T-shirt   XS   \n",
       "6641   Merchant     Amazon.in           Standard   T-shirt   XS   \n",
       "6642   Merchant     Amazon.in           Standard   Blazzer    M   \n",
       "6643   Merchant     Amazon.in           Standard   Blazzer  XXL   \n",
       "6644     Amazon     Amazon.in          Expedited  Trousers   XL   \n",
       "\n",
       "     Courier Status  ...  currency Amount   ship-city   ship-state  \\\n",
       "201         Shipped  ...       INR  653.0  CHANDIGARH   CHANDIGARH   \n",
       "202         Shipped  ...       INR  399.0   HYDERABAD    TELANGANA   \n",
       "203       Cancelled  ...       NaN    0.0   HYDERABAD    TELANGANA   \n",
       "204         Shipped  ...       INR  363.0     Chennai   TAMIL NADU   \n",
       "205         Shipped  ...       INR  685.0     CHENNAI   TAMIL NADU   \n",
       "...             ...  ...       ...    ...         ...          ...   \n",
       "6640        Shipped  ...       INR  582.0   HYDERABAD    TELANGANA   \n",
       "6641        Shipped  ...       INR  801.0    KALPETTA       KERALA   \n",
       "6642        Shipped  ...       INR  690.0     CHENNAI   TAMIL NADU   \n",
       "6643        Shipped  ...       INR  658.0        PUNE  MAHARASHTRA   \n",
       "6644        Shipped  ...       INR  540.0      RAJKOT      Gujarat   \n",
       "\n",
       "     ship-postal-code  ship-country    B2B  fulfilled-by New  PendingS  \n",
       "201          160036.0            IN  False           NaN NaN       NaN  \n",
       "202          500032.0            IN  False     Easy Ship NaN       NaN  \n",
       "203          500008.0            IN  False           NaN NaN       NaN  \n",
       "204          600041.0            IN  False           NaN NaN       NaN  \n",
       "205          600073.0            IN  False           NaN NaN       NaN  \n",
       "...               ...           ...    ...           ...  ..       ...  \n",
       "6640         500083.0            IN  False     Easy Ship NaN       NaN  \n",
       "6641         673122.0            IN  False     Easy Ship NaN       NaN  \n",
       "6642         600049.0            IN  False     Easy Ship NaN       NaN  \n",
       "6643         412207.0            IN  False     Easy Ship NaN       NaN  \n",
       "6644         360001.0            IN  False           NaN NaN       NaN  \n",
       "\n",
       "[165 rows x 21 columns]"
      ]
     },
     "execution_count": 8,
     "metadata": {},
     "output_type": "execute_result"
    }
   ],
   "source": [
    "######## Identify duplicate Rows ############\n",
    "\n",
    "duplicate_rows = amazon[amazon.duplicated()] # 165 duplicate rows will be there\n",
    "duplicate_rows\n"
   ]
  },
  {
   "cell_type": "code",
   "execution_count": 9,
   "id": "88c7733e",
   "metadata": {},
   "outputs": [
    {
     "data": {
      "text/html": [
       "<div>\n",
       "<style scoped>\n",
       "    .dataframe tbody tr th:only-of-type {\n",
       "        vertical-align: middle;\n",
       "    }\n",
       "\n",
       "    .dataframe tbody tr th {\n",
       "        vertical-align: top;\n",
       "    }\n",
       "\n",
       "    .dataframe thead th {\n",
       "        text-align: right;\n",
       "    }\n",
       "</style>\n",
       "<table border=\"1\" class=\"dataframe\">\n",
       "  <thead>\n",
       "    <tr style=\"text-align: right;\">\n",
       "      <th></th>\n",
       "      <th>index</th>\n",
       "      <th>Order ID</th>\n",
       "      <th>Date</th>\n",
       "      <th>Status</th>\n",
       "      <th>Fulfilment</th>\n",
       "      <th>Sales Channel</th>\n",
       "      <th>ship-service-level</th>\n",
       "      <th>Category</th>\n",
       "      <th>Size</th>\n",
       "      <th>Courier Status</th>\n",
       "      <th>...</th>\n",
       "      <th>currency</th>\n",
       "      <th>Amount</th>\n",
       "      <th>ship-city</th>\n",
       "      <th>ship-state</th>\n",
       "      <th>ship-postal-code</th>\n",
       "      <th>ship-country</th>\n",
       "      <th>B2B</th>\n",
       "      <th>fulfilled-by</th>\n",
       "      <th>New</th>\n",
       "      <th>PendingS</th>\n",
       "    </tr>\n",
       "  </thead>\n",
       "  <tbody>\n",
       "    <tr>\n",
       "      <th>0</th>\n",
       "      <td>0</td>\n",
       "      <td>405-8078784-5731545</td>\n",
       "      <td>2022-12-06</td>\n",
       "      <td>Cancelled</td>\n",
       "      <td>Merchant</td>\n",
       "      <td>Amazon.in</td>\n",
       "      <td>Standard</td>\n",
       "      <td>T-shirt</td>\n",
       "      <td>S</td>\n",
       "      <td>On the Way</td>\n",
       "      <td>...</td>\n",
       "      <td>INR</td>\n",
       "      <td>647.62</td>\n",
       "      <td>MUMBAI</td>\n",
       "      <td>MAHARASHTRA</td>\n",
       "      <td>400081.0</td>\n",
       "      <td>IN</td>\n",
       "      <td>False</td>\n",
       "      <td>Easy Ship</td>\n",
       "      <td>NaN</td>\n",
       "      <td>NaN</td>\n",
       "    </tr>\n",
       "    <tr>\n",
       "      <th>1</th>\n",
       "      <td>1</td>\n",
       "      <td>171-9198151-1101146</td>\n",
       "      <td>2022-12-06</td>\n",
       "      <td>Shipped - Delivered to Buyer</td>\n",
       "      <td>Merchant</td>\n",
       "      <td>Amazon.in</td>\n",
       "      <td>Standard</td>\n",
       "      <td>Shirt</td>\n",
       "      <td>3XL</td>\n",
       "      <td>Shipped</td>\n",
       "      <td>...</td>\n",
       "      <td>INR</td>\n",
       "      <td>406.00</td>\n",
       "      <td>BENGALURU</td>\n",
       "      <td>KARNATAKA</td>\n",
       "      <td>560085.0</td>\n",
       "      <td>IN</td>\n",
       "      <td>False</td>\n",
       "      <td>Easy Ship</td>\n",
       "      <td>NaN</td>\n",
       "      <td>NaN</td>\n",
       "    </tr>\n",
       "    <tr>\n",
       "      <th>2</th>\n",
       "      <td>2</td>\n",
       "      <td>404-0687676-7273146</td>\n",
       "      <td>2022-12-06</td>\n",
       "      <td>Shipped</td>\n",
       "      <td>Amazon</td>\n",
       "      <td>Amazon.in</td>\n",
       "      <td>Expedited</td>\n",
       "      <td>Shirt</td>\n",
       "      <td>XL</td>\n",
       "      <td>Shipped</td>\n",
       "      <td>...</td>\n",
       "      <td>INR</td>\n",
       "      <td>329.00</td>\n",
       "      <td>NAVI MUMBAI</td>\n",
       "      <td>MAHARASHTRA</td>\n",
       "      <td>410210.0</td>\n",
       "      <td>IN</td>\n",
       "      <td>True</td>\n",
       "      <td>NaN</td>\n",
       "      <td>NaN</td>\n",
       "      <td>NaN</td>\n",
       "    </tr>\n",
       "    <tr>\n",
       "      <th>3</th>\n",
       "      <td>3</td>\n",
       "      <td>403-9615377-8133951</td>\n",
       "      <td>2022-12-06</td>\n",
       "      <td>Cancelled</td>\n",
       "      <td>Merchant</td>\n",
       "      <td>Amazon.in</td>\n",
       "      <td>Standard</td>\n",
       "      <td>Blazzer</td>\n",
       "      <td>L</td>\n",
       "      <td>On the Way</td>\n",
       "      <td>...</td>\n",
       "      <td>INR</td>\n",
       "      <td>753.33</td>\n",
       "      <td>PUDUCHERRY</td>\n",
       "      <td>PUDUCHERRY</td>\n",
       "      <td>605008.0</td>\n",
       "      <td>IN</td>\n",
       "      <td>False</td>\n",
       "      <td>Easy Ship</td>\n",
       "      <td>NaN</td>\n",
       "      <td>NaN</td>\n",
       "    </tr>\n",
       "    <tr>\n",
       "      <th>4</th>\n",
       "      <td>4</td>\n",
       "      <td>407-1069790-7240320</td>\n",
       "      <td>2022-12-06</td>\n",
       "      <td>Shipped</td>\n",
       "      <td>Amazon</td>\n",
       "      <td>Amazon.in</td>\n",
       "      <td>Expedited</td>\n",
       "      <td>Trousers</td>\n",
       "      <td>3XL</td>\n",
       "      <td>Shipped</td>\n",
       "      <td>...</td>\n",
       "      <td>INR</td>\n",
       "      <td>574.00</td>\n",
       "      <td>CHENNAI</td>\n",
       "      <td>TAMIL NADU</td>\n",
       "      <td>600073.0</td>\n",
       "      <td>IN</td>\n",
       "      <td>False</td>\n",
       "      <td>NaN</td>\n",
       "      <td>NaN</td>\n",
       "      <td>NaN</td>\n",
       "    </tr>\n",
       "    <tr>\n",
       "      <th>...</th>\n",
       "      <td>...</td>\n",
       "      <td>...</td>\n",
       "      <td>...</td>\n",
       "      <td>...</td>\n",
       "      <td>...</td>\n",
       "      <td>...</td>\n",
       "      <td>...</td>\n",
       "      <td>...</td>\n",
       "      <td>...</td>\n",
       "      <td>...</td>\n",
       "      <td>...</td>\n",
       "      <td>...</td>\n",
       "      <td>...</td>\n",
       "      <td>...</td>\n",
       "      <td>...</td>\n",
       "      <td>...</td>\n",
       "      <td>...</td>\n",
       "      <td>...</td>\n",
       "      <td>...</td>\n",
       "      <td>...</td>\n",
       "      <td>...</td>\n",
       "    </tr>\n",
       "    <tr>\n",
       "      <th>128971</th>\n",
       "      <td>128970</td>\n",
       "      <td>406-6001380-7673107</td>\n",
       "      <td>2022-01-06</td>\n",
       "      <td>Shipped</td>\n",
       "      <td>Amazon</td>\n",
       "      <td>Amazon.in</td>\n",
       "      <td>Expedited</td>\n",
       "      <td>Shirt</td>\n",
       "      <td>XL</td>\n",
       "      <td>Shipped</td>\n",
       "      <td>...</td>\n",
       "      <td>INR</td>\n",
       "      <td>517.00</td>\n",
       "      <td>HYDERABAD</td>\n",
       "      <td>TELANGANA</td>\n",
       "      <td>500013.0</td>\n",
       "      <td>IN</td>\n",
       "      <td>False</td>\n",
       "      <td>NaN</td>\n",
       "      <td>NaN</td>\n",
       "      <td>NaN</td>\n",
       "    </tr>\n",
       "    <tr>\n",
       "      <th>128972</th>\n",
       "      <td>128971</td>\n",
       "      <td>402-9551604-7544318</td>\n",
       "      <td>2022-01-06</td>\n",
       "      <td>Shipped</td>\n",
       "      <td>Amazon</td>\n",
       "      <td>Amazon.in</td>\n",
       "      <td>Expedited</td>\n",
       "      <td>T-shirt</td>\n",
       "      <td>M</td>\n",
       "      <td>Shipped</td>\n",
       "      <td>...</td>\n",
       "      <td>INR</td>\n",
       "      <td>999.00</td>\n",
       "      <td>GURUGRAM</td>\n",
       "      <td>HARYANA</td>\n",
       "      <td>122004.0</td>\n",
       "      <td>IN</td>\n",
       "      <td>False</td>\n",
       "      <td>NaN</td>\n",
       "      <td>NaN</td>\n",
       "      <td>NaN</td>\n",
       "    </tr>\n",
       "    <tr>\n",
       "      <th>128973</th>\n",
       "      <td>128972</td>\n",
       "      <td>407-9547469-3152358</td>\n",
       "      <td>2022-01-06</td>\n",
       "      <td>Shipped</td>\n",
       "      <td>Amazon</td>\n",
       "      <td>Amazon.in</td>\n",
       "      <td>Expedited</td>\n",
       "      <td>Blazzer</td>\n",
       "      <td>XXL</td>\n",
       "      <td>Shipped</td>\n",
       "      <td>...</td>\n",
       "      <td>INR</td>\n",
       "      <td>690.00</td>\n",
       "      <td>HYDERABAD</td>\n",
       "      <td>TELANGANA</td>\n",
       "      <td>500049.0</td>\n",
       "      <td>IN</td>\n",
       "      <td>False</td>\n",
       "      <td>NaN</td>\n",
       "      <td>NaN</td>\n",
       "      <td>NaN</td>\n",
       "    </tr>\n",
       "    <tr>\n",
       "      <th>128974</th>\n",
       "      <td>128973</td>\n",
       "      <td>402-6184140-0545956</td>\n",
       "      <td>2022-01-06</td>\n",
       "      <td>Shipped</td>\n",
       "      <td>Amazon</td>\n",
       "      <td>Amazon.in</td>\n",
       "      <td>Expedited</td>\n",
       "      <td>T-shirt</td>\n",
       "      <td>XS</td>\n",
       "      <td>Shipped</td>\n",
       "      <td>...</td>\n",
       "      <td>INR</td>\n",
       "      <td>1199.00</td>\n",
       "      <td>Halol</td>\n",
       "      <td>Gujarat</td>\n",
       "      <td>389350.0</td>\n",
       "      <td>IN</td>\n",
       "      <td>False</td>\n",
       "      <td>NaN</td>\n",
       "      <td>NaN</td>\n",
       "      <td>NaN</td>\n",
       "    </tr>\n",
       "    <tr>\n",
       "      <th>128975</th>\n",
       "      <td>128974</td>\n",
       "      <td>408-7436540-8728312</td>\n",
       "      <td>2022-01-06</td>\n",
       "      <td>Shipped</td>\n",
       "      <td>Amazon</td>\n",
       "      <td>Amazon.in</td>\n",
       "      <td>Expedited</td>\n",
       "      <td>T-shirt</td>\n",
       "      <td>S</td>\n",
       "      <td>Shipped</td>\n",
       "      <td>...</td>\n",
       "      <td>INR</td>\n",
       "      <td>696.00</td>\n",
       "      <td>Raipur</td>\n",
       "      <td>CHHATTISGARH</td>\n",
       "      <td>492014.0</td>\n",
       "      <td>IN</td>\n",
       "      <td>False</td>\n",
       "      <td>NaN</td>\n",
       "      <td>NaN</td>\n",
       "      <td>NaN</td>\n",
       "    </tr>\n",
       "  </tbody>\n",
       "</table>\n",
       "<p>128811 rows × 21 columns</p>\n",
       "</div>"
      ],
      "text/plain": [
       "         index             Order ID       Date                        Status  \\\n",
       "0            0  405-8078784-5731545 2022-12-06                     Cancelled   \n",
       "1            1  171-9198151-1101146 2022-12-06  Shipped - Delivered to Buyer   \n",
       "2            2  404-0687676-7273146 2022-12-06                       Shipped   \n",
       "3            3  403-9615377-8133951 2022-12-06                     Cancelled   \n",
       "4            4  407-1069790-7240320 2022-12-06                       Shipped   \n",
       "...        ...                  ...        ...                           ...   \n",
       "128971  128970  406-6001380-7673107 2022-01-06                       Shipped   \n",
       "128972  128971  402-9551604-7544318 2022-01-06                       Shipped   \n",
       "128973  128972  407-9547469-3152358 2022-01-06                       Shipped   \n",
       "128974  128973  402-6184140-0545956 2022-01-06                       Shipped   \n",
       "128975  128974  408-7436540-8728312 2022-01-06                       Shipped   \n",
       "\n",
       "       Fulfilment Sales Channel ship-service-level  Category Size  \\\n",
       "0        Merchant     Amazon.in           Standard   T-shirt    S   \n",
       "1        Merchant     Amazon.in           Standard     Shirt  3XL   \n",
       "2          Amazon     Amazon.in          Expedited     Shirt   XL   \n",
       "3        Merchant     Amazon.in           Standard   Blazzer    L   \n",
       "4          Amazon     Amazon.in          Expedited  Trousers  3XL   \n",
       "...           ...           ...                ...       ...  ...   \n",
       "128971     Amazon     Amazon.in          Expedited     Shirt   XL   \n",
       "128972     Amazon     Amazon.in          Expedited   T-shirt    M   \n",
       "128973     Amazon     Amazon.in          Expedited   Blazzer  XXL   \n",
       "128974     Amazon     Amazon.in          Expedited   T-shirt   XS   \n",
       "128975     Amazon     Amazon.in          Expedited   T-shirt    S   \n",
       "\n",
       "       Courier Status  ...  currency   Amount    ship-city    ship-state  \\\n",
       "0          On the Way  ...       INR   647.62       MUMBAI   MAHARASHTRA   \n",
       "1             Shipped  ...       INR   406.00    BENGALURU     KARNATAKA   \n",
       "2             Shipped  ...       INR   329.00  NAVI MUMBAI   MAHARASHTRA   \n",
       "3          On the Way  ...       INR   753.33   PUDUCHERRY    PUDUCHERRY   \n",
       "4             Shipped  ...       INR   574.00      CHENNAI    TAMIL NADU   \n",
       "...               ...  ...       ...      ...          ...           ...   \n",
       "128971        Shipped  ...       INR   517.00    HYDERABAD     TELANGANA   \n",
       "128972        Shipped  ...       INR   999.00     GURUGRAM       HARYANA   \n",
       "128973        Shipped  ...       INR   690.00    HYDERABAD     TELANGANA   \n",
       "128974        Shipped  ...       INR  1199.00        Halol       Gujarat   \n",
       "128975        Shipped  ...       INR   696.00       Raipur  CHHATTISGARH   \n",
       "\n",
       "       ship-postal-code  ship-country    B2B  fulfilled-by New  PendingS  \n",
       "0              400081.0            IN  False     Easy Ship NaN       NaN  \n",
       "1              560085.0            IN  False     Easy Ship NaN       NaN  \n",
       "2              410210.0            IN   True           NaN NaN       NaN  \n",
       "3              605008.0            IN  False     Easy Ship NaN       NaN  \n",
       "4              600073.0            IN  False           NaN NaN       NaN  \n",
       "...                 ...           ...    ...           ...  ..       ...  \n",
       "128971         500013.0            IN  False           NaN NaN       NaN  \n",
       "128972         122004.0            IN  False           NaN NaN       NaN  \n",
       "128973         500049.0            IN  False           NaN NaN       NaN  \n",
       "128974         389350.0            IN  False           NaN NaN       NaN  \n",
       "128975         492014.0            IN  False           NaN NaN       NaN  \n",
       "\n",
       "[128811 rows x 21 columns]"
      ]
     },
     "execution_count": 9,
     "metadata": {},
     "output_type": "execute_result"
    }
   ],
   "source": [
    "######## Remove duplicate rows ############\n",
    "\n",
    "amazon = amazon.drop_duplicates()\n",
    "amazon\n"
   ]
  },
  {
   "cell_type": "code",
   "execution_count": 10,
   "id": "ba186451",
   "metadata": {},
   "outputs": [
    {
     "name": "stdout",
     "output_type": "stream",
     "text": [
      "index                      0\n",
      "Order ID                   0\n",
      "Date                       0\n",
      "Status                     0\n",
      "Fulfilment                 0\n",
      "Sales Channel              0\n",
      "ship-service-level         0\n",
      "Category                   0\n",
      "Size                       0\n",
      "Courier Status             0\n",
      "Qty                        0\n",
      "currency                7789\n",
      "Amount                   134\n",
      "ship-city                 33\n",
      "ship-state                33\n",
      "ship-postal-code          33\n",
      "ship-country              33\n",
      "B2B                        0\n",
      "fulfilled-by           89597\n",
      "New                   128811\n",
      "PendingS              128811\n",
      "dtype: int64\n"
     ]
    }
   ],
   "source": [
    "######## Identify missing values ##########\n",
    "\n",
    "missing_values = amazon.isnull().sum()\n",
    "print(missing_values)\n"
   ]
  },
  {
   "cell_type": "code",
   "execution_count": 11,
   "id": "21bc6d9b",
   "metadata": {
    "scrolled": true
   },
   "outputs": [
    {
     "name": "stderr",
     "output_type": "stream",
     "text": [
      "C:\\Users\\jbkvk\\AppData\\Local\\Temp\\ipykernel_11256\\2255294880.py:3: SettingWithCopyWarning: \n",
      "A value is trying to be set on a copy of a slice from a DataFrame\n",
      "\n",
      "See the caveats in the documentation: https://pandas.pydata.org/pandas-docs/stable/user_guide/indexing.html#returning-a-view-versus-a-copy\n",
      "  amazon['Amount'].fillna(amazon['Amount'].median(), inplace=True)\n"
     ]
    }
   ],
   "source": [
    "######## Filling the missing values ############\n",
    "\n",
    "amazon['Amount'].fillna(amazon['Amount'].median(), inplace=True)\n"
   ]
  },
  {
   "cell_type": "code",
   "execution_count": 12,
   "id": "501dd363",
   "metadata": {},
   "outputs": [
    {
     "name": "stdout",
     "output_type": "stream",
     "text": [
      "index                          int64\n",
      "Order ID                      object\n",
      "Date                  datetime64[ns]\n",
      "Status                        object\n",
      "Fulfilment                    object\n",
      "Sales Channel                 object\n",
      "ship-service-level            object\n",
      "Category                      object\n",
      "Size                          object\n",
      "Courier Status                object\n",
      "Qty                            int64\n",
      "currency                      object\n",
      "Amount                       float64\n",
      "ship-city                     object\n",
      "ship-state                    object\n",
      "ship-postal-code               int32\n",
      "ship-country                  object\n",
      "B2B                             bool\n",
      "fulfilled-by                  object\n",
      "New                          float64\n",
      "PendingS                     float64\n",
      "dtype: object\n"
     ]
    },
    {
     "name": "stderr",
     "output_type": "stream",
     "text": [
      "C:\\Users\\jbkvk\\AppData\\Local\\Temp\\ipykernel_11256\\2585726943.py:1: SettingWithCopyWarning: \n",
      "A value is trying to be set on a copy of a slice from a DataFrame.\n",
      "Try using .loc[row_indexer,col_indexer] = value instead\n",
      "\n",
      "See the caveats in the documentation: https://pandas.pydata.org/pandas-docs/stable/user_guide/indexing.html#returning-a-view-versus-a-copy\n",
      "  amazon['ship-postal-code']=amazon['ship-postal-code'].fillna(0).astype(int)\n"
     ]
    }
   ],
   "source": [
    "\n",
    "amazon['ship-postal-code']=amazon['ship-postal-code'].fillna(0).astype(int)\n",
    "print(amazon.dtypes)\n"
   ]
  },
  {
   "cell_type": "code",
   "execution_count": 13,
   "id": "9ffec84f",
   "metadata": {},
   "outputs": [
    {
     "name": "stderr",
     "output_type": "stream",
     "text": [
      "C:\\Users\\jbkvk\\AppData\\Local\\Temp\\ipykernel_11256\\469331454.py:2: SettingWithCopyWarning: \n",
      "A value is trying to be set on a copy of a slice from a DataFrame.\n",
      "Try using .loc[row_indexer,col_indexer] = value instead\n",
      "\n",
      "See the caveats in the documentation: https://pandas.pydata.org/pandas-docs/stable/user_guide/indexing.html#returning-a-view-versus-a-copy\n",
      "  amazon[columns_to_fill]=amazon[columns_to_fill].fillna('Unknown')\n"
     ]
    }
   ],
   "source": [
    "\n",
    "columns_to_fill=['ship-city','ship-state']              \n",
    "amazon[columns_to_fill]=amazon[columns_to_fill].fillna('Unknown')\n"
   ]
  },
  {
   "cell_type": "code",
   "execution_count": 14,
   "id": "2198d44b",
   "metadata": {},
   "outputs": [
    {
     "name": "stderr",
     "output_type": "stream",
     "text": [
      "C:\\Users\\jbkvk\\AppData\\Local\\Temp\\ipykernel_11256\\4082424925.py:3: SettingWithCopyWarning: \n",
      "A value is trying to be set on a copy of a slice from a DataFrame\n",
      "\n",
      "See the caveats in the documentation: https://pandas.pydata.org/pandas-docs/stable/user_guide/indexing.html#returning-a-view-versus-a-copy\n",
      "  amazon.drop(['New','PendingS'],axis=1,inplace=True)\n"
     ]
    }
   ],
   "source": [
    "######## Drop columns which contains full null values only ########\n",
    "\n",
    "amazon.drop(['New','PendingS'],axis=1,inplace=True)\n"
   ]
  },
  {
   "cell_type": "code",
   "execution_count": 15,
   "id": "1f2a3e63",
   "metadata": {},
   "outputs": [
    {
     "name": "stderr",
     "output_type": "stream",
     "text": [
      "C:\\Users\\jbkvk\\AppData\\Local\\Temp\\ipykernel_11256\\4224181280.py:3: SettingWithCopyWarning: \n",
      "A value is trying to be set on a copy of a slice from a DataFrame\n",
      "\n",
      "See the caveats in the documentation: https://pandas.pydata.org/pandas-docs/stable/user_guide/indexing.html#returning-a-view-versus-a-copy\n",
      "  amazon.drop(['currency','ship-country','fulfilled-by'],axis=1,inplace=True)\n"
     ]
    }
   ],
   "source": [
    "######## Remove columns which contains zero variance ##########\n",
    "\n",
    "amazon.drop(['currency','ship-country','fulfilled-by'],axis=1,inplace=True)\n"
   ]
  },
  {
   "cell_type": "code",
   "execution_count": 16,
   "id": "de8ffd0c",
   "metadata": {},
   "outputs": [],
   "source": [
    "###### basic data information ######\n"
   ]
  },
  {
   "cell_type": "code",
   "execution_count": 17,
   "id": "91a272b1",
   "metadata": {},
   "outputs": [
    {
     "data": {
      "text/html": [
       "<div>\n",
       "<style scoped>\n",
       "    .dataframe tbody tr th:only-of-type {\n",
       "        vertical-align: middle;\n",
       "    }\n",
       "\n",
       "    .dataframe tbody tr th {\n",
       "        vertical-align: top;\n",
       "    }\n",
       "\n",
       "    .dataframe thead th {\n",
       "        text-align: right;\n",
       "    }\n",
       "</style>\n",
       "<table border=\"1\" class=\"dataframe\">\n",
       "  <thead>\n",
       "    <tr style=\"text-align: right;\">\n",
       "      <th></th>\n",
       "      <th>index</th>\n",
       "      <th>Date</th>\n",
       "      <th>Qty</th>\n",
       "      <th>Amount</th>\n",
       "      <th>ship-postal-code</th>\n",
       "    </tr>\n",
       "  </thead>\n",
       "  <tbody>\n",
       "    <tr>\n",
       "      <th>count</th>\n",
       "      <td>128811.000000</td>\n",
       "      <td>128811</td>\n",
       "      <td>128811.000000</td>\n",
       "      <td>128811.000000</td>\n",
       "      <td>128811.000000</td>\n",
       "    </tr>\n",
       "    <tr>\n",
       "      <th>mean</th>\n",
       "      <td>64563.212047</td>\n",
       "      <td>2022-05-14 12:23:54.399236096</td>\n",
       "      <td>0.904426</td>\n",
       "      <td>610.021438</td>\n",
       "      <td>463839.424420</td>\n",
       "    </tr>\n",
       "    <tr>\n",
       "      <th>min</th>\n",
       "      <td>0.000000</td>\n",
       "      <td>2022-01-06 00:00:00</td>\n",
       "      <td>0.000000</td>\n",
       "      <td>0.000000</td>\n",
       "      <td>0.000000</td>\n",
       "    </tr>\n",
       "    <tr>\n",
       "      <th>25%</th>\n",
       "      <td>32366.500000</td>\n",
       "      <td>2022-04-17 00:00:00</td>\n",
       "      <td>1.000000</td>\n",
       "      <td>416.000000</td>\n",
       "      <td>382421.000000</td>\n",
       "    </tr>\n",
       "    <tr>\n",
       "      <th>50%</th>\n",
       "      <td>64569.000000</td>\n",
       "      <td>2022-05-06 00:00:00</td>\n",
       "      <td>1.000000</td>\n",
       "      <td>587.000000</td>\n",
       "      <td>500033.000000</td>\n",
       "    </tr>\n",
       "    <tr>\n",
       "      <th>75%</th>\n",
       "      <td>96771.500000</td>\n",
       "      <td>2022-05-30 00:00:00</td>\n",
       "      <td>1.000000</td>\n",
       "      <td>771.000000</td>\n",
       "      <td>600024.000000</td>\n",
       "    </tr>\n",
       "    <tr>\n",
       "      <th>max</th>\n",
       "      <td>128974.000000</td>\n",
       "      <td>2022-12-06 00:00:00</td>\n",
       "      <td>15.000000</td>\n",
       "      <td>5584.000000</td>\n",
       "      <td>989898.000000</td>\n",
       "    </tr>\n",
       "    <tr>\n",
       "      <th>std</th>\n",
       "      <td>37194.265658</td>\n",
       "      <td>NaN</td>\n",
       "      <td>0.313359</td>\n",
       "      <td>312.761700</td>\n",
       "      <td>191596.276814</td>\n",
       "    </tr>\n",
       "  </tbody>\n",
       "</table>\n",
       "</div>"
      ],
      "text/plain": [
       "               index                           Date            Qty  \\\n",
       "count  128811.000000                         128811  128811.000000   \n",
       "mean    64563.212047  2022-05-14 12:23:54.399236096       0.904426   \n",
       "min         0.000000            2022-01-06 00:00:00       0.000000   \n",
       "25%     32366.500000            2022-04-17 00:00:00       1.000000   \n",
       "50%     64569.000000            2022-05-06 00:00:00       1.000000   \n",
       "75%     96771.500000            2022-05-30 00:00:00       1.000000   \n",
       "max    128974.000000            2022-12-06 00:00:00      15.000000   \n",
       "std     37194.265658                            NaN       0.313359   \n",
       "\n",
       "              Amount  ship-postal-code  \n",
       "count  128811.000000     128811.000000  \n",
       "mean      610.021438     463839.424420  \n",
       "min         0.000000          0.000000  \n",
       "25%       416.000000     382421.000000  \n",
       "50%       587.000000     500033.000000  \n",
       "75%       771.000000     600024.000000  \n",
       "max      5584.000000     989898.000000  \n",
       "std       312.761700     191596.276814  "
      ]
     },
     "execution_count": 17,
     "metadata": {},
     "output_type": "execute_result"
    }
   ],
   "source": [
    "# provides statistical summary of numerical columns\n",
    "\n",
    "amazon.describe() \n"
   ]
  },
  {
   "cell_type": "code",
   "execution_count": 18,
   "id": "b10e35cb",
   "metadata": {},
   "outputs": [
    {
     "name": "stdout",
     "output_type": "stream",
     "text": [
      "<class 'pandas.core.frame.DataFrame'>\n",
      "Index: 128811 entries, 0 to 128975\n",
      "Data columns (total 16 columns):\n",
      " #   Column              Non-Null Count   Dtype         \n",
      "---  ------              --------------   -----         \n",
      " 0   index               128811 non-null  int64         \n",
      " 1   Order ID            128811 non-null  object        \n",
      " 2   Date                128811 non-null  datetime64[ns]\n",
      " 3   Status              128811 non-null  object        \n",
      " 4   Fulfilment          128811 non-null  object        \n",
      " 5   Sales Channel       128811 non-null  object        \n",
      " 6   ship-service-level  128811 non-null  object        \n",
      " 7   Category            128811 non-null  object        \n",
      " 8   Size                128811 non-null  object        \n",
      " 9   Courier Status      128811 non-null  object        \n",
      " 10  Qty                 128811 non-null  int64         \n",
      " 11  Amount              128811 non-null  float64       \n",
      " 12  ship-city           128811 non-null  object        \n",
      " 13  ship-state          128811 non-null  object        \n",
      " 14  ship-postal-code    128811 non-null  int32         \n",
      " 15  B2B                 128811 non-null  bool          \n",
      "dtypes: bool(1), datetime64[ns](1), float64(1), int32(1), int64(2), object(10)\n",
      "memory usage: 15.4+ MB\n"
     ]
    }
   ],
   "source": [
    "# provides concise summary of DataFrame\n",
    "\n",
    "amazon.info()     \n"
   ]
  },
  {
   "cell_type": "code",
   "execution_count": 19,
   "id": "a5f33448",
   "metadata": {},
   "outputs": [
    {
     "data": {
      "text/html": [
       "<div>\n",
       "<style scoped>\n",
       "    .dataframe tbody tr th:only-of-type {\n",
       "        vertical-align: middle;\n",
       "    }\n",
       "\n",
       "    .dataframe tbody tr th {\n",
       "        vertical-align: top;\n",
       "    }\n",
       "\n",
       "    .dataframe thead th {\n",
       "        text-align: right;\n",
       "    }\n",
       "</style>\n",
       "<table border=\"1\" class=\"dataframe\">\n",
       "  <thead>\n",
       "    <tr style=\"text-align: right;\">\n",
       "      <th></th>\n",
       "      <th>index</th>\n",
       "      <th>Order ID</th>\n",
       "      <th>Date</th>\n",
       "      <th>Status</th>\n",
       "      <th>Fulfilment</th>\n",
       "      <th>Sales Channel</th>\n",
       "      <th>ship-service-level</th>\n",
       "      <th>Category</th>\n",
       "      <th>Size</th>\n",
       "      <th>Courier Status</th>\n",
       "      <th>Qty</th>\n",
       "      <th>Amount</th>\n",
       "      <th>ship-city</th>\n",
       "      <th>ship-state</th>\n",
       "      <th>ship-postal-code</th>\n",
       "      <th>B2B</th>\n",
       "    </tr>\n",
       "  </thead>\n",
       "  <tbody>\n",
       "    <tr>\n",
       "      <th>0</th>\n",
       "      <td>0</td>\n",
       "      <td>405-8078784-5731545</td>\n",
       "      <td>2022-12-06</td>\n",
       "      <td>Cancelled</td>\n",
       "      <td>Merchant</td>\n",
       "      <td>Amazon.in</td>\n",
       "      <td>Standard</td>\n",
       "      <td>T-shirt</td>\n",
       "      <td>S</td>\n",
       "      <td>On the Way</td>\n",
       "      <td>1</td>\n",
       "      <td>647.62</td>\n",
       "      <td>MUMBAI</td>\n",
       "      <td>MAHARASHTRA</td>\n",
       "      <td>400081</td>\n",
       "      <td>False</td>\n",
       "    </tr>\n",
       "    <tr>\n",
       "      <th>1</th>\n",
       "      <td>1</td>\n",
       "      <td>171-9198151-1101146</td>\n",
       "      <td>2022-12-06</td>\n",
       "      <td>Shipped - Delivered to Buyer</td>\n",
       "      <td>Merchant</td>\n",
       "      <td>Amazon.in</td>\n",
       "      <td>Standard</td>\n",
       "      <td>Shirt</td>\n",
       "      <td>3XL</td>\n",
       "      <td>Shipped</td>\n",
       "      <td>1</td>\n",
       "      <td>406.00</td>\n",
       "      <td>BENGALURU</td>\n",
       "      <td>KARNATAKA</td>\n",
       "      <td>560085</td>\n",
       "      <td>False</td>\n",
       "    </tr>\n",
       "    <tr>\n",
       "      <th>2</th>\n",
       "      <td>2</td>\n",
       "      <td>404-0687676-7273146</td>\n",
       "      <td>2022-12-06</td>\n",
       "      <td>Shipped</td>\n",
       "      <td>Amazon</td>\n",
       "      <td>Amazon.in</td>\n",
       "      <td>Expedited</td>\n",
       "      <td>Shirt</td>\n",
       "      <td>XL</td>\n",
       "      <td>Shipped</td>\n",
       "      <td>1</td>\n",
       "      <td>329.00</td>\n",
       "      <td>NAVI MUMBAI</td>\n",
       "      <td>MAHARASHTRA</td>\n",
       "      <td>410210</td>\n",
       "      <td>True</td>\n",
       "    </tr>\n",
       "    <tr>\n",
       "      <th>3</th>\n",
       "      <td>3</td>\n",
       "      <td>403-9615377-8133951</td>\n",
       "      <td>2022-12-06</td>\n",
       "      <td>Cancelled</td>\n",
       "      <td>Merchant</td>\n",
       "      <td>Amazon.in</td>\n",
       "      <td>Standard</td>\n",
       "      <td>Blazzer</td>\n",
       "      <td>L</td>\n",
       "      <td>On the Way</td>\n",
       "      <td>0</td>\n",
       "      <td>753.33</td>\n",
       "      <td>PUDUCHERRY</td>\n",
       "      <td>PUDUCHERRY</td>\n",
       "      <td>605008</td>\n",
       "      <td>False</td>\n",
       "    </tr>\n",
       "    <tr>\n",
       "      <th>4</th>\n",
       "      <td>4</td>\n",
       "      <td>407-1069790-7240320</td>\n",
       "      <td>2022-12-06</td>\n",
       "      <td>Shipped</td>\n",
       "      <td>Amazon</td>\n",
       "      <td>Amazon.in</td>\n",
       "      <td>Expedited</td>\n",
       "      <td>Trousers</td>\n",
       "      <td>3XL</td>\n",
       "      <td>Shipped</td>\n",
       "      <td>1</td>\n",
       "      <td>574.00</td>\n",
       "      <td>CHENNAI</td>\n",
       "      <td>TAMIL NADU</td>\n",
       "      <td>600073</td>\n",
       "      <td>False</td>\n",
       "    </tr>\n",
       "  </tbody>\n",
       "</table>\n",
       "</div>"
      ],
      "text/plain": [
       "   index             Order ID       Date                        Status  \\\n",
       "0      0  405-8078784-5731545 2022-12-06                     Cancelled   \n",
       "1      1  171-9198151-1101146 2022-12-06  Shipped - Delivered to Buyer   \n",
       "2      2  404-0687676-7273146 2022-12-06                       Shipped   \n",
       "3      3  403-9615377-8133951 2022-12-06                     Cancelled   \n",
       "4      4  407-1069790-7240320 2022-12-06                       Shipped   \n",
       "\n",
       "  Fulfilment Sales Channel ship-service-level  Category Size Courier Status  \\\n",
       "0   Merchant     Amazon.in           Standard   T-shirt    S     On the Way   \n",
       "1   Merchant     Amazon.in           Standard     Shirt  3XL        Shipped   \n",
       "2     Amazon     Amazon.in          Expedited     Shirt   XL        Shipped   \n",
       "3   Merchant     Amazon.in           Standard   Blazzer    L     On the Way   \n",
       "4     Amazon     Amazon.in          Expedited  Trousers  3XL        Shipped   \n",
       "\n",
       "   Qty  Amount    ship-city   ship-state  ship-postal-code    B2B  \n",
       "0    1  647.62       MUMBAI  MAHARASHTRA            400081  False  \n",
       "1    1  406.00    BENGALURU    KARNATAKA            560085  False  \n",
       "2    1  329.00  NAVI MUMBAI  MAHARASHTRA            410210   True  \n",
       "3    0  753.33   PUDUCHERRY   PUDUCHERRY            605008  False  \n",
       "4    1  574.00      CHENNAI   TAMIL NADU            600073  False  "
      ]
     },
     "execution_count": 19,
     "metadata": {},
     "output_type": "execute_result"
    }
   ],
   "source": [
    "# display first 5 rows\n",
    "\n",
    "amazon.head()      \n"
   ]
  },
  {
   "cell_type": "code",
   "execution_count": 20,
   "id": "0bd05d7d",
   "metadata": {},
   "outputs": [
    {
     "data": {
      "text/html": [
       "<div>\n",
       "<style scoped>\n",
       "    .dataframe tbody tr th:only-of-type {\n",
       "        vertical-align: middle;\n",
       "    }\n",
       "\n",
       "    .dataframe tbody tr th {\n",
       "        vertical-align: top;\n",
       "    }\n",
       "\n",
       "    .dataframe thead th {\n",
       "        text-align: right;\n",
       "    }\n",
       "</style>\n",
       "<table border=\"1\" class=\"dataframe\">\n",
       "  <thead>\n",
       "    <tr style=\"text-align: right;\">\n",
       "      <th></th>\n",
       "      <th>index</th>\n",
       "      <th>Order ID</th>\n",
       "      <th>Date</th>\n",
       "      <th>Status</th>\n",
       "      <th>Fulfilment</th>\n",
       "      <th>Sales Channel</th>\n",
       "      <th>ship-service-level</th>\n",
       "      <th>Category</th>\n",
       "      <th>Size</th>\n",
       "      <th>Courier Status</th>\n",
       "      <th>Qty</th>\n",
       "      <th>Amount</th>\n",
       "      <th>ship-city</th>\n",
       "      <th>ship-state</th>\n",
       "      <th>ship-postal-code</th>\n",
       "      <th>B2B</th>\n",
       "    </tr>\n",
       "  </thead>\n",
       "  <tbody>\n",
       "    <tr>\n",
       "      <th>128971</th>\n",
       "      <td>128970</td>\n",
       "      <td>406-6001380-7673107</td>\n",
       "      <td>2022-01-06</td>\n",
       "      <td>Shipped</td>\n",
       "      <td>Amazon</td>\n",
       "      <td>Amazon.in</td>\n",
       "      <td>Expedited</td>\n",
       "      <td>Shirt</td>\n",
       "      <td>XL</td>\n",
       "      <td>Shipped</td>\n",
       "      <td>1</td>\n",
       "      <td>517.0</td>\n",
       "      <td>HYDERABAD</td>\n",
       "      <td>TELANGANA</td>\n",
       "      <td>500013</td>\n",
       "      <td>False</td>\n",
       "    </tr>\n",
       "    <tr>\n",
       "      <th>128972</th>\n",
       "      <td>128971</td>\n",
       "      <td>402-9551604-7544318</td>\n",
       "      <td>2022-01-06</td>\n",
       "      <td>Shipped</td>\n",
       "      <td>Amazon</td>\n",
       "      <td>Amazon.in</td>\n",
       "      <td>Expedited</td>\n",
       "      <td>T-shirt</td>\n",
       "      <td>M</td>\n",
       "      <td>Shipped</td>\n",
       "      <td>1</td>\n",
       "      <td>999.0</td>\n",
       "      <td>GURUGRAM</td>\n",
       "      <td>HARYANA</td>\n",
       "      <td>122004</td>\n",
       "      <td>False</td>\n",
       "    </tr>\n",
       "    <tr>\n",
       "      <th>128973</th>\n",
       "      <td>128972</td>\n",
       "      <td>407-9547469-3152358</td>\n",
       "      <td>2022-01-06</td>\n",
       "      <td>Shipped</td>\n",
       "      <td>Amazon</td>\n",
       "      <td>Amazon.in</td>\n",
       "      <td>Expedited</td>\n",
       "      <td>Blazzer</td>\n",
       "      <td>XXL</td>\n",
       "      <td>Shipped</td>\n",
       "      <td>1</td>\n",
       "      <td>690.0</td>\n",
       "      <td>HYDERABAD</td>\n",
       "      <td>TELANGANA</td>\n",
       "      <td>500049</td>\n",
       "      <td>False</td>\n",
       "    </tr>\n",
       "    <tr>\n",
       "      <th>128974</th>\n",
       "      <td>128973</td>\n",
       "      <td>402-6184140-0545956</td>\n",
       "      <td>2022-01-06</td>\n",
       "      <td>Shipped</td>\n",
       "      <td>Amazon</td>\n",
       "      <td>Amazon.in</td>\n",
       "      <td>Expedited</td>\n",
       "      <td>T-shirt</td>\n",
       "      <td>XS</td>\n",
       "      <td>Shipped</td>\n",
       "      <td>1</td>\n",
       "      <td>1199.0</td>\n",
       "      <td>Halol</td>\n",
       "      <td>Gujarat</td>\n",
       "      <td>389350</td>\n",
       "      <td>False</td>\n",
       "    </tr>\n",
       "    <tr>\n",
       "      <th>128975</th>\n",
       "      <td>128974</td>\n",
       "      <td>408-7436540-8728312</td>\n",
       "      <td>2022-01-06</td>\n",
       "      <td>Shipped</td>\n",
       "      <td>Amazon</td>\n",
       "      <td>Amazon.in</td>\n",
       "      <td>Expedited</td>\n",
       "      <td>T-shirt</td>\n",
       "      <td>S</td>\n",
       "      <td>Shipped</td>\n",
       "      <td>1</td>\n",
       "      <td>696.0</td>\n",
       "      <td>Raipur</td>\n",
       "      <td>CHHATTISGARH</td>\n",
       "      <td>492014</td>\n",
       "      <td>False</td>\n",
       "    </tr>\n",
       "  </tbody>\n",
       "</table>\n",
       "</div>"
      ],
      "text/plain": [
       "         index             Order ID       Date   Status Fulfilment  \\\n",
       "128971  128970  406-6001380-7673107 2022-01-06  Shipped     Amazon   \n",
       "128972  128971  402-9551604-7544318 2022-01-06  Shipped     Amazon   \n",
       "128973  128972  407-9547469-3152358 2022-01-06  Shipped     Amazon   \n",
       "128974  128973  402-6184140-0545956 2022-01-06  Shipped     Amazon   \n",
       "128975  128974  408-7436540-8728312 2022-01-06  Shipped     Amazon   \n",
       "\n",
       "       Sales Channel ship-service-level Category Size Courier Status  Qty  \\\n",
       "128971     Amazon.in          Expedited    Shirt   XL        Shipped    1   \n",
       "128972     Amazon.in          Expedited  T-shirt    M        Shipped    1   \n",
       "128973     Amazon.in          Expedited  Blazzer  XXL        Shipped    1   \n",
       "128974     Amazon.in          Expedited  T-shirt   XS        Shipped    1   \n",
       "128975     Amazon.in          Expedited  T-shirt    S        Shipped    1   \n",
       "\n",
       "        Amount  ship-city    ship-state  ship-postal-code    B2B  \n",
       "128971   517.0  HYDERABAD     TELANGANA            500013  False  \n",
       "128972   999.0   GURUGRAM       HARYANA            122004  False  \n",
       "128973   690.0  HYDERABAD     TELANGANA            500049  False  \n",
       "128974  1199.0      Halol       Gujarat            389350  False  \n",
       "128975   696.0     Raipur  CHHATTISGARH            492014  False  "
      ]
     },
     "execution_count": 20,
     "metadata": {},
     "output_type": "execute_result"
    }
   ],
   "source": [
    "# display last 5 rows \n",
    "\n",
    "amazon.tail()\n"
   ]
  },
  {
   "cell_type": "code",
   "execution_count": 21,
   "id": "1627eabd",
   "metadata": {},
   "outputs": [
    {
     "data": {
      "text/plain": [
       "Index(['index', 'Order ID', 'Date', 'Status', 'Fulfilment', 'Sales Channel',\n",
       "       'ship-service-level', 'Category', 'Size', 'Courier Status', 'Qty',\n",
       "       'Amount', 'ship-city', 'ship-state', 'ship-postal-code', 'B2B'],\n",
       "      dtype='object')"
      ]
     },
     "execution_count": 21,
     "metadata": {},
     "output_type": "execute_result"
    }
   ],
   "source": [
    "# display all the column name \n",
    "\n",
    "amazon.columns \n"
   ]
  },
  {
   "cell_type": "code",
   "execution_count": 22,
   "id": "67e40b21",
   "metadata": {},
   "outputs": [],
   "source": [
    "######### First moment business decision ############\n",
    "\n",
    "###### Measure of Central tendency #######\n",
    "\n",
    "# mean #\n"
   ]
  },
  {
   "cell_type": "code",
   "execution_count": 23,
   "id": "8843f14c",
   "metadata": {},
   "outputs": [
    {
     "data": {
      "text/plain": [
       "610.0214375325089"
      ]
     },
     "execution_count": 23,
     "metadata": {},
     "output_type": "execute_result"
    }
   ],
   "source": [
    "\n",
    "amazon['Amount'].mean()\n"
   ]
  },
  {
   "cell_type": "code",
   "execution_count": 24,
   "id": "871ed910",
   "metadata": {},
   "outputs": [
    {
     "data": {
      "text/plain": [
       "0.9044258642507239"
      ]
     },
     "execution_count": 24,
     "metadata": {},
     "output_type": "execute_result"
    }
   ],
   "source": [
    "\n",
    "amazon['Qty'].mean()\n"
   ]
  },
  {
   "cell_type": "code",
   "execution_count": 25,
   "id": "41a63f18",
   "metadata": {},
   "outputs": [
    {
     "data": {
      "text/plain": [
       "587.0"
      ]
     },
     "execution_count": 25,
     "metadata": {},
     "output_type": "execute_result"
    }
   ],
   "source": [
    "# median #\n",
    "\n",
    "amazon['Amount'].median()\n"
   ]
  },
  {
   "cell_type": "code",
   "execution_count": 26,
   "id": "cb818972",
   "metadata": {},
   "outputs": [
    {
     "data": {
      "text/plain": [
       "1.0"
      ]
     },
     "execution_count": 26,
     "metadata": {},
     "output_type": "execute_result"
    }
   ],
   "source": [
    "\n",
    "amazon['Qty'].median()\n"
   ]
  },
  {
   "cell_type": "code",
   "execution_count": 27,
   "id": "d68c3cad",
   "metadata": {},
   "outputs": [
    {
     "data": {
      "text/plain": [
       "0    Shipped\n",
       "Name: Status, dtype: object"
      ]
     },
     "execution_count": 27,
     "metadata": {},
     "output_type": "execute_result"
    }
   ],
   "source": [
    "# Mode #\n",
    "\n",
    "amazon['Status'].mode()\n"
   ]
  },
  {
   "cell_type": "code",
   "execution_count": 28,
   "id": "fe264067",
   "metadata": {},
   "outputs": [
    {
     "data": {
      "text/plain": [
       "0    Amazon\n",
       "Name: Fulfilment, dtype: object"
      ]
     },
     "execution_count": 28,
     "metadata": {},
     "output_type": "execute_result"
    }
   ],
   "source": [
    "\n",
    "amazon['Fulfilment'].mode()\n"
   ]
  },
  {
   "cell_type": "code",
   "execution_count": 29,
   "id": "7de1c718",
   "metadata": {},
   "outputs": [
    {
     "data": {
      "text/plain": [
       "0    Amazon.in\n",
       "Name: Sales Channel, dtype: object"
      ]
     },
     "execution_count": 29,
     "metadata": {},
     "output_type": "execute_result"
    }
   ],
   "source": [
    "\n",
    "amazon['Sales Channel'].mode()\n"
   ]
  },
  {
   "cell_type": "code",
   "execution_count": 30,
   "id": "37d832ec",
   "metadata": {},
   "outputs": [
    {
     "data": {
      "text/plain": [
       "0    T-shirt\n",
       "Name: Category, dtype: object"
      ]
     },
     "execution_count": 30,
     "metadata": {},
     "output_type": "execute_result"
    }
   ],
   "source": [
    "\n",
    "amazon['Category'].mode()"
   ]
  },
  {
   "cell_type": "code",
   "execution_count": 31,
   "id": "b13ef7d2",
   "metadata": {},
   "outputs": [
    {
     "data": {
      "text/plain": [
       "0    MAHARASHTRA\n",
       "Name: ship-state, dtype: object"
      ]
     },
     "execution_count": 31,
     "metadata": {},
     "output_type": "execute_result"
    }
   ],
   "source": [
    "amazon['ship-state'].mode()"
   ]
  },
  {
   "cell_type": "code",
   "execution_count": 32,
   "id": "5db936dc",
   "metadata": {},
   "outputs": [],
   "source": [
    "######### Second moment business decision ############\n",
    "\n",
    "###### Measure of dispersion #######\n",
    "\n",
    "# variance #"
   ]
  },
  {
   "cell_type": "code",
   "execution_count": 33,
   "id": "90fb036f",
   "metadata": {},
   "outputs": [
    {
     "data": {
      "text/plain": [
       "97819.88117629236"
      ]
     },
     "execution_count": 33,
     "metadata": {},
     "output_type": "execute_result"
    }
   ],
   "source": [
    "\n",
    "amazon['Amount'].var()\n"
   ]
  },
  {
   "cell_type": "code",
   "execution_count": 34,
   "id": "e4f683e8",
   "metadata": {},
   "outputs": [
    {
     "data": {
      "text/plain": [
       "0.09819413721607577"
      ]
     },
     "execution_count": 34,
     "metadata": {},
     "output_type": "execute_result"
    }
   ],
   "source": [
    "\n",
    "amazon['Qty'].var()\n"
   ]
  },
  {
   "cell_type": "code",
   "execution_count": 35,
   "id": "40ecae0a",
   "metadata": {},
   "outputs": [
    {
     "data": {
      "text/plain": [
       "312.7617003027902"
      ]
     },
     "execution_count": 35,
     "metadata": {},
     "output_type": "execute_result"
    }
   ],
   "source": [
    "# standard deviation #\n",
    "\n",
    "amazon['Amount'].std()\n"
   ]
  },
  {
   "cell_type": "code",
   "execution_count": 36,
   "id": "0c0e85e3",
   "metadata": {},
   "outputs": [
    {
     "data": {
      "text/plain": [
       "0.31335943773257535"
      ]
     },
     "execution_count": 36,
     "metadata": {},
     "output_type": "execute_result"
    }
   ],
   "source": [
    "\n",
    "amazon['Qty'].std()\n"
   ]
  },
  {
   "cell_type": "code",
   "execution_count": 37,
   "id": "f9cafb04",
   "metadata": {},
   "outputs": [
    {
     "data": {
      "text/plain": [
       "5584.0"
      ]
     },
     "execution_count": 37,
     "metadata": {},
     "output_type": "execute_result"
    }
   ],
   "source": [
    "# Range #\n",
    "Range_Amount = amazon['Amount'].max()-amazon['Amount'].min()\n",
    "Range_Amount"
   ]
  },
  {
   "cell_type": "code",
   "execution_count": 38,
   "id": "45e30519",
   "metadata": {},
   "outputs": [
    {
     "data": {
      "text/plain": [
       "15"
      ]
     },
     "execution_count": 38,
     "metadata": {},
     "output_type": "execute_result"
    }
   ],
   "source": [
    "Range_Qty = amazon['Qty'].max()-amazon['Qty'].min()\n",
    "Range_Qty"
   ]
  },
  {
   "cell_type": "code",
   "execution_count": 39,
   "id": "feac3941",
   "metadata": {},
   "outputs": [],
   "source": [
    "######### Third moment business decision ############\n",
    "\n",
    "###### Measure of asymmetry #######\n",
    "\n",
    "# skewness #"
   ]
  },
  {
   "cell_type": "code",
   "execution_count": 40,
   "id": "6ccf5741",
   "metadata": {},
   "outputs": [
    {
     "data": {
      "text/plain": [
       "0.44711202524751154"
      ]
     },
     "execution_count": 40,
     "metadata": {},
     "output_type": "execute_result"
    }
   ],
   "source": [
    "\n",
    "amazon['Amount'].skew()\n"
   ]
  },
  {
   "cell_type": "code",
   "execution_count": 41,
   "id": "172f3bb9",
   "metadata": {},
   "outputs": [
    {
     "data": {
      "text/plain": [
       "-0.6958544510965909"
      ]
     },
     "execution_count": 41,
     "metadata": {},
     "output_type": "execute_result"
    }
   ],
   "source": [
    "\n",
    "amazon['Qty'].skew()\n"
   ]
  },
  {
   "cell_type": "code",
   "execution_count": 42,
   "id": "6d4de1f7",
   "metadata": {},
   "outputs": [],
   "source": [
    "######### Fourth moment business decision ############\n",
    "\n",
    "###### Measure of peakness #######\n",
    "\n",
    "# kurtosis #"
   ]
  },
  {
   "cell_type": "code",
   "execution_count": 43,
   "id": "1af2c947",
   "metadata": {},
   "outputs": [
    {
     "data": {
      "text/plain": [
       "1.917389848001982"
      ]
     },
     "execution_count": 43,
     "metadata": {},
     "output_type": "execute_result"
    }
   ],
   "source": [
    "\n",
    "amazon['Amount'].kurt()\n"
   ]
  },
  {
   "cell_type": "code",
   "execution_count": 44,
   "id": "d28bc868",
   "metadata": {},
   "outputs": [
    {
     "data": {
      "text/plain": [
       "60.428680941783455"
      ]
     },
     "execution_count": 44,
     "metadata": {},
     "output_type": "execute_result"
    }
   ],
   "source": [
    "\n",
    "amazon['Qty'].kurt()\n"
   ]
  },
  {
   "cell_type": "code",
   "execution_count": 45,
   "id": "3a893f12",
   "metadata": {},
   "outputs": [
    {
     "data": {
      "image/png": "[encoded data removed]",
      "text/plain": [
       "<Figure size 640x480 with 1 Axes>"
      ]
     },
     "metadata": {},
     "output_type": "display_data"
    }
   ],
   "source": [
    "##########  Histogram of Qty  ############\n",
    "\n",
    "sns.histplot(amazon['Qty'], kde=True)\n",
    "plt.title('Histogram of Qty')\n",
    "plt.show()\n"
   ]
  },
  {
   "cell_type": "code",
   "execution_count": 46,
   "id": "81549e96",
   "metadata": {},
   "outputs": [
    {
     "data": {
      "image/png": "[encoded data removed]",
      "text/plain": [
       "<Figure size 640x480 with 1 Axes>"
      ]
     },
     "metadata": {},
     "output_type": "display_data"
    }
   ],
   "source": [
    "##########  Histogram of Amount  ############\n",
    "\n",
    "sns.histplot(amazon['Amount'], kde=True)\n",
    "plt.title('Histogram of Amount')\n",
    "plt.show()\n"
   ]
  },
  {
   "cell_type": "code",
   "execution_count": 47,
   "id": "338c787c",
   "metadata": {},
   "outputs": [
    {
     "data": {
      "image/png": "[encoded data removed]",
      "text/plain": [
       "<Figure size 640x480 with 1 Axes>"
      ]
     },
     "metadata": {},
     "output_type": "display_data"
    }
   ],
   "source": [
    "#########  countplot of Status ###########\n",
    "\n",
    "sns.countplot(x='Status', data=amazon)\n",
    "plt.title('Order Status Distribution')\n",
    "plt.xticks(rotation =90)\n",
    "plt.show()\n"
   ]
  },
  {
   "cell_type": "code",
   "execution_count": 48,
   "id": "7ad680b4",
   "metadata": {},
   "outputs": [
    {
     "data": {
      "image/png": "[encoded data removed]",
      "text/plain": [
       "<Figure size 640x480 with 1 Axes>"
      ]
     },
     "metadata": {},
     "output_type": "display_data"
    }
   ],
   "source": [
    "#########  countplot of Sales Channel ###########\n",
    "\n",
    "sns.countplot(x='Sales Channel', data=amazon)\n",
    "plt.title('Sales Channel Distribution')\n",
    "plt.show()\n"
   ]
  },
  {
   "cell_type": "code",
   "execution_count": 49,
   "id": "020ba048",
   "metadata": {},
   "outputs": [
    {
     "data": {
      "image/png": "[encoded data removed]",
      "text/plain": [
       "<Figure size 640x480 with 1 Axes>"
      ]
     },
     "metadata": {},
     "output_type": "display_data"
    }
   ],
   "source": [
    "#########  countplot of Fulfilment ###########\n",
    "\n",
    "sns.countplot(x='Fulfilment', data=amazon)\n",
    "plt.title('Fulfilment Distribution')\n",
    "plt.show()"
   ]
  },
  {
   "cell_type": "code",
   "execution_count": 50,
   "id": "f47a859c",
   "metadata": {},
   "outputs": [
    {
     "data": {
      "image/png": "[encoded data removed]",
      "text/plain": [
       "<Figure size 640x480 with 1 Axes>"
      ]
     },
     "metadata": {},
     "output_type": "display_data"
    }
   ],
   "source": [
    "#########  countplot of Category ###########\n",
    "\n",
    "sns.countplot(x='Category', data=amazon)\n",
    "plt.title('Product Category Distribution')\n",
    "plt.show()\n"
   ]
  },
  {
   "cell_type": "code",
   "execution_count": 51,
   "id": "01346383",
   "metadata": {},
   "outputs": [
    {
     "data": {
      "image/png": "[encoded data removed]",
      "text/plain": [
       "<Figure size 640x480 with 1 Axes>"
      ]
     },
     "metadata": {},
     "output_type": "display_data"
    }
   ],
   "source": [
    "#########  countplot of Size ###########\n",
    "\n",
    "sns.countplot(x='Size', data=amazon)\n",
    "plt.title('Product Size Distribution')\n",
    "plt.show()\n"
   ]
  },
  {
   "cell_type": "code",
   "execution_count": 52,
   "id": "59b5baab",
   "metadata": {},
   "outputs": [
    {
     "data": {
      "image/png": "[encoded data removed]",
      "text/plain": [
       "<Figure size 640x480 with 1 Axes>"
      ]
     },
     "metadata": {},
     "output_type": "display_data"
    }
   ],
   "source": [
    "#########  countplot of B2B ###########\n",
    "\n",
    "sns.countplot(x='B2B', data=amazon)\n",
    "plt.title('B2B Distribution')\n",
    "plt.show()\n"
   ]
  },
  {
   "cell_type": "code",
   "execution_count": 53,
   "id": "e4083988",
   "metadata": {},
   "outputs": [
    {
     "data": {
      "image/png": "[encoded data removed]",
      "text/plain": [
       "<Figure size 640x480 with 1 Axes>"
      ]
     },
     "metadata": {},
     "output_type": "display_data"
    }
   ],
   "source": [
    "#########  Boxplot of Qty #############\n",
    "\n",
    "sns.boxplot(x=amazon['Qty'])\n",
    "plt.title('Boxplot of Qty')\n",
    "plt.show()\n"
   ]
  },
  {
   "cell_type": "code",
   "execution_count": 54,
   "id": "5a46c489",
   "metadata": {},
   "outputs": [
    {
     "data": {
      "image/png": "[encoded data removed]",
      "text/plain": [
       "<Figure size 640x480 with 1 Axes>"
      ]
     },
     "metadata": {},
     "output_type": "display_data"
    }
   ],
   "source": [
    "#########  Boxplot of Amount  #############\n",
    "\n",
    "sns.boxplot(x=amazon['Amount'])\n",
    "plt.title('Boxplot of Amount')\n",
    "plt.show()\n"
   ]
  },
  {
   "cell_type": "code",
   "execution_count": 55,
   "id": "20b14de5",
   "metadata": {},
   "outputs": [
    {
     "data": {
      "text/plain": [
       "355.0"
      ]
     },
     "execution_count": 55,
     "metadata": {},
     "output_type": "execute_result"
    }
   ],
   "source": [
    "####### Outlier detection of Amount Column ###########\n",
    "\n",
    "IQR = amazon['Amount'].quantile(0.75) - amazon['Amount'].quantile(0.25)\n",
    "\n",
    "lower_limit = amazon['Amount'].quantile(0.25) - (IQR * 1.5)\n",
    "upper_limit = amazon['Amount'].quantile(0.75) + (IQR * 1.5)\n",
    "outliers_amazon = np.where(amazon.Amount > upper_limit, True, np.where(amazon.Amount < lower_limit, True, False))\n",
    "IQR     # these outliers is most important to calculate total sales and hidden patterns in this data set.It was useful for visualizations.so i didn't treat that outliers.\n"
   ]
  },
  {
   "cell_type": "code",
   "execution_count": 56,
   "id": "57416d61",
   "metadata": {},
   "outputs": [
    {
     "data": {
      "text/plain": [
       "0.0"
      ]
     },
     "execution_count": 56,
     "metadata": {},
     "output_type": "execute_result"
    }
   ],
   "source": [
    "####### Outlier detection of Qty Column ###########\n",
    "\n",
    "IQR = amazon['Qty'].quantile(0.75) - amazon['Qty'].quantile(0.25)\n",
    "\n",
    "lower_limit = amazon['Qty'].quantile(0.25) - (IQR * 1.5)\n",
    "upper_limit = amazon['Qty'].quantile(0.75) + (IQR * 1.5)\n",
    "outliers_amazon = np.where(amazon.Qty > upper_limit, True, np.where(amazon.Qty < lower_limit, True, False))\n",
    "IQR"
   ]
  },
  {
   "cell_type": "code",
   "execution_count": 57,
   "id": "745eb6b7",
   "metadata": {},
   "outputs": [
    {
     "data": {
      "image/png": "[encoded data removed]",
      "text/plain": [
       "<Figure size 640x480 with 1 Axes>"
      ]
     },
     "metadata": {},
     "output_type": "display_data"
    }
   ],
   "source": [
    "#########  Scatter plot  ###########\n",
    "\n",
    "plt.scatter(x = amazon['Qty'],y = amazon['Amount'], edgecolors=\"pink\")\n",
    "plt.title('Scatter plot for Quantity and Amount')   \n",
    "plt.show()\n"
   ]
  },
  {
   "cell_type": "code",
   "execution_count": 58,
   "id": "f9c59025",
   "metadata": {},
   "outputs": [
    {
     "name": "stderr",
     "output_type": "stream",
     "text": [
      "C:\\Users\\jbkvk\\AppData\\Local\\Temp\\ipykernel_11256\\3705005399.py:4: UserWarning: \n",
      "\n",
      "`distplot` is a deprecated function and will be removed in seaborn v0.14.0.\n",
      "\n",
      "Please adapt your code to use either `displot` (a figure-level function with\n",
      "similar flexibility) or `histplot` (an axes-level function for histograms).\n",
      "\n",
      "For a guide to updating your code to use the new functions, please see\n",
      "https://gist.github.com/mwaskom/de44147ed2974457ad6372750bbe5751\n",
      "\n",
      "  sns.distplot(amazon['Qty'], hist = True, kde = True,\n",
      "C:\\Users\\jbkvk\\anaconda3\\Lib\\site-packages\\seaborn\\distributions.py:2511: FutureWarning: \n",
      "\n",
      "`shade` is now deprecated in favor of `fill`; setting `fill=True`.\n",
      "This will become an error in seaborn v0.14.0; please update your code.\n",
      "\n",
      "  kdeplot(**{axis: a}, ax=ax, color=kde_color, **kde_kws)\n"
     ]
    },
    {
     "data": {
      "text/plain": [
       "<matplotlib.legend.Legend at 0x29401bb2dd0>"
      ]
     },
     "execution_count": 58,
     "metadata": {},
     "output_type": "execute_result"
    },
    {
     "data": {
      "image/png": "[encoded data removed]",
      "text/plain": [
       "<Figure size 640x480 with 1 Axes>"
      ]
     },
     "metadata": {},
     "output_type": "display_data"
    }
   ],
   "source": [
    "########## Distplot of Qty ###########\n",
    "\n",
    "\n",
    "sns.distplot(amazon['Qty'], hist = True, kde = True,\n",
    "             kde_kws = {'shade': True},\n",
    "             label = \"Non-Normal\", color = \"green\")\n",
    "\n",
    "plt.legend(loc = \"upper right\")\n"
   ]
  },
  {
   "cell_type": "code",
   "execution_count": 59,
   "id": "56a79871",
   "metadata": {},
   "outputs": [
    {
     "name": "stderr",
     "output_type": "stream",
     "text": [
      "C:\\Users\\jbkvk\\AppData\\Local\\Temp\\ipykernel_11256\\3035366808.py:3: UserWarning: \n",
      "\n",
      "`distplot` is a deprecated function and will be removed in seaborn v0.14.0.\n",
      "\n",
      "Please adapt your code to use either `displot` (a figure-level function with\n",
      "similar flexibility) or `histplot` (an axes-level function for histograms).\n",
      "\n",
      "For a guide to updating your code to use the new functions, please see\n",
      "https://gist.github.com/mwaskom/de44147ed2974457ad6372750bbe5751\n",
      "\n",
      "  sns.distplot(amazon['Amount'], hist = True, kde = True,\n",
      "C:\\Users\\jbkvk\\anaconda3\\Lib\\site-packages\\seaborn\\distributions.py:2511: FutureWarning: \n",
      "\n",
      "`shade` is now deprecated in favor of `fill`; setting `fill=True`.\n",
      "This will become an error in seaborn v0.14.0; please update your code.\n",
      "\n",
      "  kdeplot(**{axis: a}, ax=ax, color=kde_color, **kde_kws)\n"
     ]
    },
    {
     "data": {
      "text/plain": [
       "<matplotlib.legend.Legend at 0x294009b62d0>"
      ]
     },
     "execution_count": 59,
     "metadata": {},
     "output_type": "execute_result"
    },
    {
     "data": {
      "image/png": "[encoded data removed]",
      "text/plain": [
       "<Figure size 640x480 with 1 Axes>"
      ]
     },
     "metadata": {},
     "output_type": "display_data"
    }
   ],
   "source": [
    "########## Distplot of Amount ###########\n",
    "\n",
    "sns.distplot(amazon['Amount'], hist = True, kde = True,\n",
    "             kde_kws = {'shade': True},\n",
    "             label = \"Non-Normal\", color = \"green\")\n",
    "\n",
    "plt.legend(loc = \"upper right\")\n"
   ]
  },
  {
   "cell_type": "code",
   "execution_count": 60,
   "id": "6b94cb35",
   "metadata": {},
   "outputs": [
    {
     "data": {
      "text/plain": [
       "((array([-4.40126403, -4.20486788, -4.09813047, ...,  4.09813047,\n",
       "          4.20486788,  4.40126403]),\n",
       "  array([ 0,  0,  0, ...,  9, 13, 15], dtype=int64)),\n",
       " (0.1865604799211106, 0.904425864250724, 0.5953378169541639))"
      ]
     },
     "execution_count": 60,
     "metadata": {},
     "output_type": "execute_result"
    },
    {
     "data": {
      "image/png": "[encoded data removed]",
      "text/plain": [
       "<Figure size 640x480 with 1 Axes>"
      ]
     },
     "metadata": {},
     "output_type": "display_data"
    }
   ],
   "source": [
    "#########  Q-Q Plot of Qty ###########\n",
    "\n",
    "stats.probplot(amazon.Qty, dist = \"norm\", plot = plt)\n"
   ]
  },
  {
   "cell_type": "code",
   "execution_count": 61,
   "id": "83867694",
   "metadata": {},
   "outputs": [
    {
     "data": {
      "text/plain": [
       "((array([-4.40126403, -4.20486788, -4.09813047, ...,  4.09813047,\n",
       "          4.20486788,  4.40126403]),\n",
       "  array([   0.  ,    0.  ,    0.  , ..., 4235.72, 5495.  , 5584.  ])),\n",
       " (307.276309912185, 610.021437532509, 0.982431124328921))"
      ]
     },
     "execution_count": 61,
     "metadata": {},
     "output_type": "execute_result"
    },
    {
     "data": {
      "image/png": "[encoded data removed]",
      "text/plain": [
       "<Figure size 640x480 with 1 Axes>"
      ]
     },
     "metadata": {},
     "output_type": "display_data"
    }
   ],
   "source": [
    "#########  Q-Q Plot of Amount ###########\n",
    "\n",
    "stats.probplot(amazon.Amount, dist = \"norm\", plot = plt)\n"
   ]
  },
  {
   "cell_type": "code",
   "execution_count": 62,
   "id": "115ba17e",
   "metadata": {},
   "outputs": [
    {
     "data": {
      "image/png": "[encoded data removed]",
      "text/plain": [
       "<Figure size 1000x600 with 1 Axes>"
      ]
     },
     "metadata": {},
     "output_type": "display_data"
    }
   ],
   "source": [
    "######### Daily sales over time  #########\n",
    "\n",
    "daily_sales = amazon.groupby(amazon['Date'].dt.date)['Amount'].sum()\n",
    "plt.figure(figsize=(10, 6))\n",
    "plt.title('Daily Sales Over Time')\n",
    "plt.xlabel('Date')\n",
    "plt.ylabel('Total Sales Amount')\n",
    "plt.xticks(rotation=45)\n",
    "daily_sales.plot()\n",
    "plt.show()\n"
   ]
  },
  {
   "cell_type": "code",
   "execution_count": 63,
   "id": "40f506f6",
   "metadata": {},
   "outputs": [
    {
     "data": {
      "image/png": "[encoded data removed]",
      "text/plain": [
       "<Figure size 1000x600 with 1 Axes>"
      ]
     },
     "metadata": {},
     "output_type": "display_data"
    }
   ],
   "source": [
    "\n",
    "sales_channel_sales = amazon.groupby('Fulfilment')['Amount'].sum()\n",
    "sales_channel_sales.plot(kind='bar', figsize=(10, 6), title='Fulfilment', color='skyblue')\n",
    "plt.xlabel('Fulfilment')\n",
    "plt.ylabel('Total Sales Amount')\n",
    "plt.xticks(rotation=45)\n",
    "plt.show()\n"
   ]
  },
  {
   "cell_type": "code",
   "execution_count": 64,
   "id": "4c01a216",
   "metadata": {
    "scrolled": true
   },
   "outputs": [
    {
     "data": {
      "application/vnd.jupyter.widget-view+json": {
       "model_id": "122d3561e4144d7d97c9af2c76aca06d",
       "version_major": 2,
       "version_minor": 0
      },
      "text/plain": [
       "                                             |                                             | [  0%]   00:00 ->…"
      ]
     },
     "metadata": {},
     "output_type": "display_data"
    },
    {
     "name": "stdout",
     "output_type": "stream",
     "text": [
      "Report SWEETVIZ_REPORT.html was generated! NOTEBOOK/COLAB USERS: the web browser MAY not pop up, regardless, the report IS saved in your notebook/colab files.\n"
     ]
    }
   ],
   "source": [
    "#########  Auto eda  ###########\n",
    "\n",
    "# sweetviz #\n",
    "\n",
    "# pip install sweetviz #\n",
    "\n",
    "import sweetviz as sv\n",
    " \n",
    "s = sv.analyze(amazon)\n",
    "s.show_html()\n"
   ]
  }
 ],
 "metadata": {
  "kernelspec": {
   "display_name": "Python 3 (ipykernel)",
   "language": "python",
   "name": "python3"
  },
  "language_info": {
   "codemirror_mode": {
    "name": "ipython",
    "version": 3
   },
   "file_extension": ".py",
   "mimetype": "text/x-python",
   "name": "python",
   "nbconvert_exporter": "python",
   "pygments_lexer": "ipython3",
   "version": "3.11.5"
  }
 },
 "nbformat": 4,
 "nbformat_minor": 5
}
